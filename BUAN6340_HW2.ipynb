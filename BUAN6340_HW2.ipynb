
  {
   "cell_type": "markdown",
   "metadata": {},
   "source": [
    "Deliverables:\n",
    "\n",
    "- Write down your codes in the given cells described in this file, denoted as \"YOUR CODES\"\n",
    "- Use \"download as\" in the \"file\" menu to convert your ipython file to a .html file\n",
    "- Submit both .ipynb and .html files to the eLearning (you might need to compress them into one single file)\n",
    "\n",
    "\n",
    "This assignment covers data manipulation and visualization\n",
    "\n",
    "\n",
    "The total score: 100"
   ]
  },
  {
   "cell_type": "code",
   "execution_count": 2,
   "metadata": {},
   "outputs": [],
   "source": [
    "NAME = \"Shu Tzu, Chang\"\n",
    "Session = \"BUAN 6340.003\""
   ]
  },
  {
   "cell_type": "markdown",
   "metadata": {},
   "source": [
    "In this assignment, we will explore an economic indicator [dataset](https://www.kaggle.com/worldbank/world-development-indicators). \n",
    "\n",
    "Please downloand **indicator.csv** from eLearning."
   ]
  },
  {
   "cell_type": "code",
   "execution_count": 3,
   "metadata": {},
   "outputs": [],
   "source": [
    "from IPython.core.interactiveshell import InteractiveShell   # print all the result\n",
    "InteractiveShell.ast_node_interactivity = \"all\""
   ]
  },
  {
   "cell_type": "code",
   "execution_count": 4,
   "metadata": {},
   "outputs": [],
   "source": [
    "import numpy as np\n",
    "import pandas as pd\n",
    "import matplotlib.pyplot as plt"
   ]
  },
  {
   "cell_type": "code",
   "execution_count": 5,
   "metadata": {},
   "outputs": [
    {
     "data": {
      "text/plain": [
       "(5656458, 6)"
      ]
     },
     "execution_count": 5,
     "metadata": {},
     "output_type": "execute_result"
    }
   ],
   "source": [
    "#Import data\n",
    "world = pd.read_csv(r'C:/Users/user/Desktop/python programming/Indicators.csv')\n",
    "world.shape"
   ]
  },
  {
   "cell_type": "code",
   "execution_count": 6,
   "metadata": {},
   "outputs": [
    {
     "data": {
      "text/html": [
       "<div>\n",
       "<style scoped>\n",
       "    .dataframe tbody tr th:only-of-type {\n",
       "        vertical-align: middle;\n",
       "    }\n",
       "\n",
       "    .dataframe tbody tr th {\n",
       "        vertical-align: top;\n",
       "    }\n",
       "\n",
       "    .dataframe thead th {\n",
       "        text-align: right;\n",
       "    }\n",
       "</style>\n",
       "<table border=\"1\" class=\"dataframe\">\n",
       "  <thead>\n",
       "    <tr style=\"text-align: right;\">\n",
       "      <th></th>\n",
       "      <th>CountryName</th>\n",
       "      <th>CountryCode</th>\n",
       "      <th>IndicatorName</th>\n",
       "      <th>IndicatorCode</th>\n",
       "      <th>Year</th>\n",
       "      <th>Value</th>\n",
       "    </tr>\n",
       "  </thead>\n",
       "  <tbody>\n",
       "    <tr>\n",
       "      <th>0</th>\n",
       "      <td>Arab World</td>\n",
       "      <td>ARB</td>\n",
       "      <td>Adolescent fertility rate (births per 1,000 wo...</td>\n",
       "      <td>SP.ADO.TFRT</td>\n",
       "      <td>1960</td>\n",
       "      <td>1.335609e+02</td>\n",
       "    </tr>\n",
       "    <tr>\n",
       "      <th>1</th>\n",
       "      <td>Arab World</td>\n",
       "      <td>ARB</td>\n",
       "      <td>Age dependency ratio (% of working-age populat...</td>\n",
       "      <td>SP.POP.DPND</td>\n",
       "      <td>1960</td>\n",
       "      <td>8.779760e+01</td>\n",
       "    </tr>\n",
       "    <tr>\n",
       "      <th>2</th>\n",
       "      <td>Arab World</td>\n",
       "      <td>ARB</td>\n",
       "      <td>Age dependency ratio, old (% of working-age po...</td>\n",
       "      <td>SP.POP.DPND.OL</td>\n",
       "      <td>1960</td>\n",
       "      <td>6.634579e+00</td>\n",
       "    </tr>\n",
       "    <tr>\n",
       "      <th>3</th>\n",
       "      <td>Arab World</td>\n",
       "      <td>ARB</td>\n",
       "      <td>Age dependency ratio, young (% of working-age ...</td>\n",
       "      <td>SP.POP.DPND.YG</td>\n",
       "      <td>1960</td>\n",
       "      <td>8.102333e+01</td>\n",
       "    </tr>\n",
       "    <tr>\n",
       "      <th>4</th>\n",
       "      <td>Arab World</td>\n",
       "      <td>ARB</td>\n",
       "      <td>Arms exports (SIPRI trend indicator values)</td>\n",
       "      <td>MS.MIL.XPRT.KD</td>\n",
       "      <td>1960</td>\n",
       "      <td>3.000000e+06</td>\n",
       "    </tr>\n",
       "  </tbody>\n",
       "</table>\n",
       "</div>"
      ],
      "text/plain": [
       "  CountryName CountryCode                                      IndicatorName  \\\n",
       "0  Arab World         ARB  Adolescent fertility rate (births per 1,000 wo...   \n",
       "1  Arab World         ARB  Age dependency ratio (% of working-age populat...   \n",
       "2  Arab World         ARB  Age dependency ratio, old (% of working-age po...   \n",
       "3  Arab World         ARB  Age dependency ratio, young (% of working-age ...   \n",
       "4  Arab World         ARB        Arms exports (SIPRI trend indicator values)   \n",
       "\n",
       "    IndicatorCode  Year         Value  \n",
       "0     SP.ADO.TFRT  1960  1.335609e+02  \n",
       "1     SP.POP.DPND  1960  8.779760e+01  \n",
       "2  SP.POP.DPND.OL  1960  6.634579e+00  \n",
       "3  SP.POP.DPND.YG  1960  8.102333e+01  \n",
       "4  MS.MIL.XPRT.KD  1960  3.000000e+06  "
      ]
     },
     "execution_count": 6,
     "metadata": {},
     "output_type": "execute_result"
    }
   ],
   "source": [
    "world.head()"
   ]
  },
  {
   "cell_type": "markdown",
   "metadata": {},
   "source": [
    "## Part I: Initial Exploration (18 points)"
   ]
  },
  {
   "cell_type": "markdown",
   "metadata": {},
   "source": [
    "**Use <font color='red'>one or two</font> lines to answer each of the following <font color='red'>FIVE</font> questions**\n",
    "\n",
    "Hint: https://pandas.pydata.org/pandas-docs/stable/reference/api/pandas.unique.html"
   ]
  },
  {
   "cell_type": "markdown",
   "metadata": {},
   "source": [
    "**Q1.1** How many UNIQUE country names are there? (3 points)"
   ]
  },
  {
   "cell_type": "code",
   "execution_count": 7,
   "metadata": {},
   "outputs": [
    {
     "name": "stdout",
     "output_type": "stream",
     "text": [
      "There are 247 unique countries\n"
     ]
    }
   ],
   "source": [
    "# YOUR CODES\n",
    "print('There are',len(world['CountryName'].unique()),'unique countries')\n"
   ]
  },
  {
   "cell_type": "markdown",
   "metadata": {},
   "source": [
    "**Q1.2** How many years of data do we have? (3 points)"
   ]
  },
  {
   "cell_type": "code",
   "execution_count": 8,
   "metadata": {},
   "outputs": [
    {
     "name": "stdout",
     "output_type": "stream",
     "text": [
      "we have 56 years of data\n"
     ]
    }
   ],
   "source": [
    "# YOUR CODES\n",
    "print('we have',world['Year'].max()-world['Year'].min()+1, 'years of data')\n"
   ]
  },
  {
   "cell_type": "markdown",
   "metadata": {},
   "source": [
    "**Q1.3** What's the range of years? (3 points)"
   ]
  },
  {
   "cell_type": "code",
   "execution_count": 9,
   "metadata": {},
   "outputs": [
    {
     "name": "stdout",
     "output_type": "stream",
     "text": [
      "The range of years is from 1960 to 2015\n"
     ]
    }
   ],
   "source": [
    "# YOUR CODES\n",
    "print('The range of years is from',world['Year'].min(), 'to',world['Year'].max())\n",
    "\n"
   ]
  },
  {
   "cell_type": "markdown",
   "metadata": {},
   "source": [
    "**Q1.4** How many unique indicators? (3 points)"
   ]
  },
  {
   "cell_type": "code",
   "execution_count": 10,
   "metadata": {},
   "outputs": [
    {
     "name": "stdout",
     "output_type": "stream",
     "text": [
      "There are 1344 unique indicators\n"
     ]
    }
   ],
   "source": [
    "# YOUR CODES\n",
    "print('There are', len(world['IndicatorName'].drop_duplicates()), 'unique indicators')\n",
    "\n"
   ]
  },
  {
   "cell_type": "markdown",
   "metadata": {},
   "source": [
    "**Q1.5** How many unique indiactors does United States have in 2000? (6 points)"
   ]
  },
  {
   "cell_type": "code",
   "execution_count": 11,
   "metadata": {},
   "outputs": [
    {
     "name": "stdout",
     "output_type": "stream",
     "text": [
      "There are 646 unique indicators in the United States in 2000\n"
     ]
    }
   ],
   "source": [
    "# YOUR CODES\n",
    "print('There are', len(world[(world['Year']==2000)&(world['CountryName']=='United States')]['IndicatorName'].drop_duplicates()), 'unique indicators in the United States in 2000')"
   ]
  },
  {
   "cell_type": "markdown",
   "metadata": {},
   "source": [
    "## Part II: Visualizaion (60 points)"
   ]
  },
  {
   "cell_type": "markdown",
   "metadata": {},
   "source": [
    "Let's pick a country and an indicator to explore: CO2 Emissions per capita and the USA\n",
    "\n",
    "**Q2.1** Create a new dataframe where country = United State & Indicator =  'CO2 emissions (metric tons per capita)' (10 points)\n",
    "\n",
    "Expected output: size of the dataframe and the first 5 lines of the dataframe"
   ]
  },
  {
   "cell_type": "code",
   "execution_count": 12,
   "metadata": {},
   "outputs": [
    {
     "data": {
      "text/html": [
       "<div>\n",
       "<style scoped>\n",
       "    .dataframe tbody tr th:only-of-type {\n",
       "        vertical-align: middle;\n",
       "    }\n",
       "\n",
       "    .dataframe tbody tr th {\n",
       "        vertical-align: top;\n",
       "    }\n",
       "\n",
       "    .dataframe thead th {\n",
       "        text-align: right;\n",
       "    }\n",
       "</style>\n",
       "<table border=\"1\" class=\"dataframe\">\n",
       "  <thead>\n",
       "    <tr style=\"text-align: right;\">\n",
       "      <th></th>\n",
       "      <th>CountryName</th>\n",
       "      <th>CountryCode</th>\n",
       "      <th>IndicatorName</th>\n",
       "      <th>IndicatorCode</th>\n",
       "      <th>Year</th>\n",
       "      <th>Value</th>\n",
       "    </tr>\n",
       "  </thead>\n",
       "  <tbody>\n",
       "    <tr>\n",
       "      <th>22232</th>\n",
       "      <td>United States</td>\n",
       "      <td>USA</td>\n",
       "      <td>CO2 emissions (metric tons per capita)</td>\n",
       "      <td>EN.ATM.CO2E.PC</td>\n",
       "      <td>1960</td>\n",
       "      <td>15.999779</td>\n",
       "    </tr>\n",
       "    <tr>\n",
       "      <th>48708</th>\n",
       "      <td>United States</td>\n",
       "      <td>USA</td>\n",
       "      <td>CO2 emissions (metric tons per capita)</td>\n",
       "      <td>EN.ATM.CO2E.PC</td>\n",
       "      <td>1961</td>\n",
       "      <td>15.681256</td>\n",
       "    </tr>\n",
       "    <tr>\n",
       "      <th>77087</th>\n",
       "      <td>United States</td>\n",
       "      <td>USA</td>\n",
       "      <td>CO2 emissions (metric tons per capita)</td>\n",
       "      <td>EN.ATM.CO2E.PC</td>\n",
       "      <td>1962</td>\n",
       "      <td>16.013937</td>\n",
       "    </tr>\n",
       "    <tr>\n",
       "      <th>105704</th>\n",
       "      <td>United States</td>\n",
       "      <td>USA</td>\n",
       "      <td>CO2 emissions (metric tons per capita)</td>\n",
       "      <td>EN.ATM.CO2E.PC</td>\n",
       "      <td>1963</td>\n",
       "      <td>16.482762</td>\n",
       "    </tr>\n",
       "    <tr>\n",
       "      <th>134742</th>\n",
       "      <td>United States</td>\n",
       "      <td>USA</td>\n",
       "      <td>CO2 emissions (metric tons per capita)</td>\n",
       "      <td>EN.ATM.CO2E.PC</td>\n",
       "      <td>1964</td>\n",
       "      <td>16.968119</td>\n",
       "    </tr>\n",
       "  </tbody>\n",
       "</table>\n",
       "</div>"
      ],
      "text/plain": [
       "          CountryName CountryCode                           IndicatorName  \\\n",
       "22232   United States         USA  CO2 emissions (metric tons per capita)   \n",
       "48708   United States         USA  CO2 emissions (metric tons per capita)   \n",
       "77087   United States         USA  CO2 emissions (metric tons per capita)   \n",
       "105704  United States         USA  CO2 emissions (metric tons per capita)   \n",
       "134742  United States         USA  CO2 emissions (metric tons per capita)   \n",
       "\n",
       "         IndicatorCode  Year      Value  \n",
       "22232   EN.ATM.CO2E.PC  1960  15.999779  \n",
       "48708   EN.ATM.CO2E.PC  1961  15.681256  \n",
       "77087   EN.ATM.CO2E.PC  1962  16.013937  \n",
       "105704  EN.ATM.CO2E.PC  1963  16.482762  \n",
       "134742  EN.ATM.CO2E.PC  1964  16.968119  "
      ]
     },
     "execution_count": 12,
     "metadata": {},
     "output_type": "execute_result"
    }
   ],
   "source": [
    "# YOUR CODES\n",
    "co2=world['IndicatorName']=='CO2 emissions (metric tons per capita)'\n",
    "usa=world['CountryName']=='United States'\n",
    "world_new=world[co2 & usa]\n",
    "world_new.head(5)\n",
    "\n"
   ]
  },
  {
   "cell_type": "markdown",
   "metadata": {},
   "source": [
    "**Q2.2** Plot the trend of CO2 emissions over time in USA (10 points)"
   ]
  },
  {
   "cell_type": "code",
   "execution_count": 13,
   "metadata": {},
   "outputs": [
    {
     "data": {
      "image/png": "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\n",
      "text/plain": [
       "<Figure size 432x288 with 1 Axes>"
      ]
     },
     "metadata": {
      "needs_background": "light"
     },
     "output_type": "display_data"
    }
   ],
   "source": [
    "%matplotlib inline\n",
    "# YOUR CODES\n",
    "co2_plot=world_new[\"Value\"]\n",
    "co2_plot\n",
    "time_plot=world_new[\"Year\"].values\n",
    "time_plot\n",
    "fig = plt.figure()\n",
    "plt.plot(time_plot,co2_plot,'-')\n",
    "plt.title(\"CO2 emissions over time in USA\")\n",
    "plt.xlabel(\"time\")\n",
    "plt.ylabel(\"CO2 emissions\");\n"
   ]
  },
  {
   "cell_type": "markdown",
   "metadata": {},
   "source": [
    "### But how do the USA's numbers relate to those of other countries?"
   ]
  },
  {
   "cell_type": "markdown",
   "metadata": {},
   "source": [
    "**Q2.3** (20 points)\n",
    "\n",
    "- select CO2 emissions per capital for all countries in 2011\n",
    "- plot a histogram of the emmissions per capita by country\n",
    "- indicate the position of USA in the plot\n"
   ]
  },
  {
   "cell_type": "code",
   "execution_count": 31,
   "metadata": {},
   "outputs": [
    {
     "data": {
      "text/html": [
       "<div>\n",
       "<style scoped>\n",
       "    .dataframe tbody tr th:only-of-type {\n",
       "        vertical-align: middle;\n",
       "    }\n",
       "\n",
       "    .dataframe tbody tr th {\n",
       "        vertical-align: top;\n",
       "    }\n",
       "\n",
       "    .dataframe thead th {\n",
       "        text-align: right;\n",
       "    }\n",
       "</style>\n",
       "<table border=\"1\" class=\"dataframe\">\n",
       "  <thead>\n",
       "    <tr style=\"text-align: right;\">\n",
       "      <th></th>\n",
       "      <th>CountryName</th>\n",
       "      <th>CountryCode</th>\n",
       "      <th>IndicatorName</th>\n",
       "      <th>IndicatorCode</th>\n",
       "      <th>Year</th>\n",
       "      <th>Value</th>\n",
       "    </tr>\n",
       "  </thead>\n",
       "  <tbody>\n",
       "    <tr>\n",
       "      <th>5026275</th>\n",
       "      <td>Arab World</td>\n",
       "      <td>ARB</td>\n",
       "      <td>CO2 emissions (metric tons per capita)</td>\n",
       "      <td>EN.ATM.CO2E.PC</td>\n",
       "      <td>2011</td>\n",
       "      <td>4.724500</td>\n",
       "    </tr>\n",
       "    <tr>\n",
       "      <th>5026788</th>\n",
       "      <td>Caribbean small states</td>\n",
       "      <td>CSS</td>\n",
       "      <td>CO2 emissions (metric tons per capita)</td>\n",
       "      <td>EN.ATM.CO2E.PC</td>\n",
       "      <td>2011</td>\n",
       "      <td>9.692960</td>\n",
       "    </tr>\n",
       "    <tr>\n",
       "      <th>5027295</th>\n",
       "      <td>Central Europe and the Baltics</td>\n",
       "      <td>CEB</td>\n",
       "      <td>CO2 emissions (metric tons per capita)</td>\n",
       "      <td>EN.ATM.CO2E.PC</td>\n",
       "      <td>2011</td>\n",
       "      <td>6.911131</td>\n",
       "    </tr>\n",
       "    <tr>\n",
       "      <th>5027870</th>\n",
       "      <td>East Asia &amp; Pacific (all income levels)</td>\n",
       "      <td>EAS</td>\n",
       "      <td>CO2 emissions (metric tons per capita)</td>\n",
       "      <td>EN.ATM.CO2E.PC</td>\n",
       "      <td>2011</td>\n",
       "      <td>5.859548</td>\n",
       "    </tr>\n",
       "    <tr>\n",
       "      <th>5028456</th>\n",
       "      <td>East Asia &amp; Pacific (developing only)</td>\n",
       "      <td>EAP</td>\n",
       "      <td>CO2 emissions (metric tons per capita)</td>\n",
       "      <td>EN.ATM.CO2E.PC</td>\n",
       "      <td>2011</td>\n",
       "      <td>5.302499</td>\n",
       "    </tr>\n",
       "    <tr>\n",
       "      <th>...</th>\n",
       "      <td>...</td>\n",
       "      <td>...</td>\n",
       "      <td>...</td>\n",
       "      <td>...</td>\n",
       "      <td>...</td>\n",
       "      <td>...</td>\n",
       "    </tr>\n",
       "    <tr>\n",
       "      <th>5198435</th>\n",
       "      <td>Vietnam</td>\n",
       "      <td>VNM</td>\n",
       "      <td>CO2 emissions (metric tons per capita)</td>\n",
       "      <td>EN.ATM.CO2E.PC</td>\n",
       "      <td>2011</td>\n",
       "      <td>1.971889</td>\n",
       "    </tr>\n",
       "    <tr>\n",
       "      <th>5199322</th>\n",
       "      <td>West Bank and Gaza</td>\n",
       "      <td>WBG</td>\n",
       "      <td>CO2 emissions (metric tons per capita)</td>\n",
       "      <td>EN.ATM.CO2E.PC</td>\n",
       "      <td>2011</td>\n",
       "      <td>0.572407</td>\n",
       "    </tr>\n",
       "    <tr>\n",
       "      <th>5199936</th>\n",
       "      <td>Yemen, Rep.</td>\n",
       "      <td>YEM</td>\n",
       "      <td>CO2 emissions (metric tons per capita)</td>\n",
       "      <td>EN.ATM.CO2E.PC</td>\n",
       "      <td>2011</td>\n",
       "      <td>0.919968</td>\n",
       "    </tr>\n",
       "    <tr>\n",
       "      <th>5200687</th>\n",
       "      <td>Zambia</td>\n",
       "      <td>ZMB</td>\n",
       "      <td>CO2 emissions (metric tons per capita)</td>\n",
       "      <td>EN.ATM.CO2E.PC</td>\n",
       "      <td>2011</td>\n",
       "      <td>0.212450</td>\n",
       "    </tr>\n",
       "    <tr>\n",
       "      <th>5201543</th>\n",
       "      <td>Zimbabwe</td>\n",
       "      <td>ZWE</td>\n",
       "      <td>CO2 emissions (metric tons per capita)</td>\n",
       "      <td>EN.ATM.CO2E.PC</td>\n",
       "      <td>2011</td>\n",
       "      <td>0.691698</td>\n",
       "    </tr>\n",
       "  </tbody>\n",
       "</table>\n",
       "<p>232 rows × 6 columns</p>\n",
       "</div>"
      ],
      "text/plain": [
       "                                     CountryName CountryCode  \\\n",
       "5026275                               Arab World         ARB   \n",
       "5026788                   Caribbean small states         CSS   \n",
       "5027295           Central Europe and the Baltics         CEB   \n",
       "5027870  East Asia & Pacific (all income levels)         EAS   \n",
       "5028456    East Asia & Pacific (developing only)         EAP   \n",
       "...                                          ...         ...   \n",
       "5198435                                  Vietnam         VNM   \n",
       "5199322                       West Bank and Gaza         WBG   \n",
       "5199936                              Yemen, Rep.         YEM   \n",
       "5200687                                   Zambia         ZMB   \n",
       "5201543                                 Zimbabwe         ZWE   \n",
       "\n",
       "                                  IndicatorName   IndicatorCode  Year  \\\n",
       "5026275  CO2 emissions (metric tons per capita)  EN.ATM.CO2E.PC  2011   \n",
       "5026788  CO2 emissions (metric tons per capita)  EN.ATM.CO2E.PC  2011   \n",
       "5027295  CO2 emissions (metric tons per capita)  EN.ATM.CO2E.PC  2011   \n",
       "5027870  CO2 emissions (metric tons per capita)  EN.ATM.CO2E.PC  2011   \n",
       "5028456  CO2 emissions (metric tons per capita)  EN.ATM.CO2E.PC  2011   \n",
       "...                                         ...             ...   ...   \n",
       "5198435  CO2 emissions (metric tons per capita)  EN.ATM.CO2E.PC  2011   \n",
       "5199322  CO2 emissions (metric tons per capita)  EN.ATM.CO2E.PC  2011   \n",
       "5199936  CO2 emissions (metric tons per capita)  EN.ATM.CO2E.PC  2011   \n",
       "5200687  CO2 emissions (metric tons per capita)  EN.ATM.CO2E.PC  2011   \n",
       "5201543  CO2 emissions (metric tons per capita)  EN.ATM.CO2E.PC  2011   \n",
       "\n",
       "            Value  \n",
       "5026275  4.724500  \n",
       "5026788  9.692960  \n",
       "5027295  6.911131  \n",
       "5027870  5.859548  \n",
       "5028456  5.302499  \n",
       "...           ...  \n",
       "5198435  1.971889  \n",
       "5199322  0.572407  \n",
       "5199936  0.919968  \n",
       "5200687  0.212450  \n",
       "5201543  0.691698  \n",
       "\n",
       "[232 rows x 6 columns]"
      ]
     },
     "execution_count": 31,
     "metadata": {},
     "output_type": "execute_result"
    },
    {
     "data": {
      "text/plain": [
       "(232, 6)"
      ]
     },
     "execution_count": 31,
     "metadata": {},
     "output_type": "execute_result"
    },
    {
     "data": {
      "text/html": [
       "<div>\n",
       "<style scoped>\n",
       "    .dataframe tbody tr th:only-of-type {\n",
       "        vertical-align: middle;\n",
       "    }\n",
       "\n",
       "    .dataframe tbody tr th {\n",
       "        vertical-align: top;\n",
       "    }\n",
       "\n",
       "    .dataframe thead th {\n",
       "        text-align: right;\n",
       "    }\n",
       "</style>\n",
       "<table border=\"1\" class=\"dataframe\">\n",
       "  <thead>\n",
       "    <tr style=\"text-align: right;\">\n",
       "      <th></th>\n",
       "      <th>CountryName</th>\n",
       "      <th>CountryCode</th>\n",
       "      <th>IndicatorName</th>\n",
       "      <th>IndicatorCode</th>\n",
       "      <th>Year</th>\n",
       "      <th>Value</th>\n",
       "    </tr>\n",
       "  </thead>\n",
       "  <tbody>\n",
       "    <tr>\n",
       "      <th>5194727</th>\n",
       "      <td>United States</td>\n",
       "      <td>USA</td>\n",
       "      <td>CO2 emissions (metric tons per capita)</td>\n",
       "      <td>EN.ATM.CO2E.PC</td>\n",
       "      <td>2011</td>\n",
       "      <td>17.020216</td>\n",
       "    </tr>\n",
       "  </tbody>\n",
       "</table>\n",
       "</div>"
      ],
      "text/plain": [
       "           CountryName CountryCode                           IndicatorName  \\\n",
       "5194727  United States         USA  CO2 emissions (metric tons per capita)   \n",
       "\n",
       "          IndicatorCode  Year      Value  \n",
       "5194727  EN.ATM.CO2E.PC  2011  17.020216  "
      ]
     },
     "execution_count": 31,
     "metadata": {},
     "output_type": "execute_result"
    }
   ],
   "source": [
    "# YOUR CODES\n",
    "world_2011=world['Year']==2011\n",
    "world_2=world[co2 & world_2011]\n",
    "world_2\n",
    "world_2.shape\n",
    "\n",
    "co2_plot2=world_2['Value'].values\n",
    "country_plot2=world_2['CountryName'].values\n",
    "\n",
    "world_2[world_2['CountryName']=='United States']\n"
   ]
  },
  {
   "cell_type": "code",
   "execution_count": 28,
   "metadata": {},
   "outputs": [
    {
     "data": {
      "image/png": "iVBORw0KGgoAAAANSUhEUgAAAYUAAAEWCAYAAACJ0YulAAAABHNCSVQICAgIfAhkiAAAAAlwSFlzAAALEgAACxIB0t1+/AAAADh0RVh0U29mdHdhcmUAbWF0cGxvdGxpYiB2ZXJzaW9uMy4yLjIsIGh0dHA6Ly9tYXRwbG90bGliLm9yZy+WH4yJAAAgAElEQVR4nO3dd5xU5fn//9ebEgQWXAQ0VLHGlkj8oKKiomJBUUks0aCBNGO+JjGJ+RhNLCRGf8aYmGb5GBtREzXGRGyxoGADBdHY0FgCiEvvvV6/P86947DswsDu7LC77+fjMY+ZuU+75p6Zc537Pk0RgZmZGUCzUgdgZmZbDycFMzPLcVIwM7McJwUzM8txUjAzsxwnBTMzy3FSsGpJekzS0FpMf5OkS+sypsaoLutJUi9JIalFXcyvMajt77gpclLYDJK+LGmCpCWSpqcfXL+84XtJGilpoaTFkp6RdHDe8N0lPShptqR5kh6X9JnSfJqNi4iBETGiFtOfGxFX1GVMjVF+PUnqL2laqWMqFUnDJd1Vl/Pc0t+xpFaSbpU0Jf2XX5U0sMo4R0l6R9Ky9F/fMW/YEalsoaTJ1cz/CklvSFojafiWfLZicVIokKQfAr8FrgJ2AHoCNwAnp+G7AC8AbwA7AV2BfwBPSDoozaYcGAl8Js3jZeDB+vsUVghvaW+dlKmvdVYL4CPgcGBb4FLgPkm9UiydgAdS+XbABODevOmXArcB/1vD/N8HLgQeqfvQayki/NjEg+xHsQQ4bSPj3Ak8Wk35jcCzNUyzHRBAxxqGtwKuBaYCM4GbgNZpWH9gGtkPaxYwHRgMHA/8B5gH/CRvXsOBvwF3AYvJktfuwMVp+o+AY/LGHw18I73eFRgDLATmAPemcgHXpekXAq8D+6RhdwC/yJvfN8n+CPPIEmPXvGEBnAu8B8wHrge0sWVXU1e90nzOASpSfVyQN7wZcBHwATAXuA/Yrsq0X091XdP3dTLwGrAozee4VP5VYFKq1w+Bb+VNU/k9/STFPxkYkjf8DuAXQFtgObCO7Le2hGzD4gBgLLAgfaY/Ap/a3DoAPg0sI++3BvwPMBtoWc28mqeYP0if6xWgRxp2MDA+fSfjgYPzppsMDKjyu7urSnxDUz3PAX6ahh0HrAJWp8/+77zf4ZVkG1zLyVayr1SJ9QLgnzXUyWg++R0PA54n+0/NB/4LDNyM9cDrwCnp9TnAi3nDKr+/PapMMwCYvJF53gUMr691WSEPtxQKcxCwDdmWf02OJlvpVnUfcIikNtUMOwyYERFza5jnL8lW3L3JVo7dgMvyhn86xVVZ/ifgLLI/+6HAZZJ2zhv/RLLk1QF4FXicbGXZDfg58H81xHEF8ESarjvwh1R+TPoMu5O1gr5EtsJdj6Qjgf8POB3oAkwB7qky2iBgf2DfNN6xm1h2TY4AdkuxXSRpQCr/HlnSPJxsZVuZfPIdDuyZt+z8z3AA8GeylVJ5+tyT0+BZKf72ZAniOkn75U3+aaATWT0PBW6u2m0YEUuBgUBFRJSlRwWwFvhBmv4g4Cjg/21uHUTEDLIV5Ol5450F3BMRq6uZxw+BM8k2MtoDXwOWSdqObOv290BH4DfAI5I6biKmfP3IWstHkf1G94yIf5G1wu9Nn33fvPHPJlsJt0vL3UnSnlU+x50FLvtA4F2y+rwGuFWSNjWRpB3IfudvpaK9gX9XDk/f3wepvEFzUihMR2BORKzZyDidyLbMqppOVs8d8gsldSdbKf2wupmlH+o3gR9ExLyIWEz2pzkjb7TVwJXpT31PiuF3EbE4It4i+wF/Lm/85yLi8fQ5/gZ0Bq7Om76XpPJqwlkN7Ei2db8iIp7PK28H7EG2ZT8pIqqrgyHAbRExMSJWkrVODqpsiidXR8SCiJgKPEOWCDe27Jr8LCKWRsQbwO1kKzaAb5FtlU5LMQwHTq3SVTQ8Tbu8mvl+PX2GJyNiXUR8HBHvAETEIxHxQWTGkCWxQ6tMf2lErEzDH2H9lXONIuKViBgXEWsiYjJZ4j58C+tgBNkKFEnNU3lNK9NvAJdExLvpc/07bbycALwXEXemmP4KvEO2wVGon0XE8oj4N9mKdd9NjH9HRLyVlreSrJum8nPsTdYCebjAZU+JiD9FxFqy+uhC1pVbI0ktgbuBEZXfOVBG1lLKt5Ds/9CgOSkUZi7QaRN9zXPIfmBVdSHrEphfWSCpM9mK44b0p6pOZ6AN8IqkBZIWAP9K5bm40o8bsqYrZN1M5JWV5b2vOmxONdPnj1/pQrKuopclvSXpawAR8TRZd8b1wExJN0tqX830XclaB6TplpDVabe8cWbkvV6WF0e1y96Ij/JeT0nLhiyx/COvLieRbYXvUMO0VfUg2xLcgKSBksalgwcWkG1dd8obZX7akqwuro1KByc8LGmGpEVkGwadNjFZTXXwILBXaj0eDSyMiJdrmEdNn3e97zJvGd2qGbcmNX3XNan6vYwAvpw2nM4G7kvJYrOWHRHL0ssal5/2YdxJ1rX1nbxBS8haUPnak3W1NWhOCoUZC6wg636oyVPAadWUnw6MrfwBSupAlhBGRsSVG5nfHLIV9d4RUZ4e20bEpv5AdS4iZkTENyOiK9kW9w2Sdk3Dfh8R/0PWbN6d6nesVZCtlAGQ1Jas9fVxbZZdgx55r3umZUO2YhmYV5flEbFNROTHsLFLBn8E7FK1UFIr4O9k/dQ7REQ58ChZIqvUIX3m6uLKV93ybyTbEt8tItqT9fNvqruj2jqIiBVk3ZlDyFamG+tyqfbzUuW7zFtGZT0uJduYqfTpTcSar6b6X688IsaRraQPBb5M4V1HmyUlnVvJNhxOqdLN9hZ5LZz0/e7CJ91LDZaTQgEiYiFZn/31kgZLaiOpZdpCvCaN9jPgYElXStpOUjtJ3wW+AvwYIG1FPw68EBEXbWKZ68j2EVwnafs0fTdJG/R3F5uk01J3F2QtngDWStpf0oGpeb2ULHGurWYWfwG+Kql3WoleBbyUukO2aNkbmeTS9P3sTda/X3lEyE3AlZWHDUrqLOnkTS0/z63pMxwlqVn6LvYAPkV2QMBsYE06bPGYaqb/maRPSTqUbP9DdfufZgIdJW2bV9aObMf2krS8bxcQa011ANl+kWHASWQ7OWtyC3CFpN3SUT+fS/sNHgV2V3Z4dgtJXwL24pPum9eAM9L/ow9wagHxVppJ1oVZyHrpz2St1DUFdCluqRvJ9jGdWE2X4j+AfSSdImkbsvXD65XdS+k3sg3QMnurbSR9qnLiVD/bkK2DW6ThzYv0OTaLk0KBIuI3ZP3/l5CtAD4ia07+Mw1/j2wH2r5kOyCnA6cAx0bEC2k2XyDbmfpVZec6VD561rDYH5MdsTMudR08RbaDrr7tD7wkaQnZkUPnR8R/yZrLfyJbWU8h6xK6turEETGK7NC9v5PVyy6sv29kS5ZdkzFkdTYKuDYinkjlv0vTPyFpMTCObKdjQVI3y1fJjrZamJazY9rX8z2yLfD5ZFuuI6tMPiMNqyDrmz43r286fxnvAH8FPkzdXF2BH6V5Liar63urTleNmuqA9FtcB0zcRFL+TfpMT5AlpVvJjnybS5bULiD7vi8EBkXEnDTdpWTf73yyDaW/FBBvpcpEOVfSxE2MeyewD8VrJexI1jLtDczI+68OAYiI2WT/7yvJPuuBrP+bPoyspf8oWUtqOVldVvpTKjsT+Gl6fXYxPsvmqjzsz6xBSzut/0t2eOXGDgioV5L6kx2S2X1T49YXSU8Df4mIW0ody5aS1JrsqK/90gaZ1RGfpGPWhEjaH9iPdNJlA/ZtYLwTQt1zUjBrIiSNIDtY4vzU7dUgKbtshNj4gR+2hdx9ZGZmOd7RbGZmOQ26+6hTp07Rq1evUodhZtagvPLKK3MionN1wxp0UujVqxcTJkwodRhmZg2KpKpnpee4+8jMzHKcFMzMLMdJwczMcpwUzMwsx0nBzMxynBTMzCzHScHMzHKcFMzMLKdoSUHSbZJmSXozr2w7SU9Kei89d8gbdrGk9yW9W4obyZiZWXFbCncAx1UpuwgYFRG7kd0A5CIASXuR3aBi7zTNDfVxF6Ku3XsiaYseXbvXdF8cM7OGq2iXuYiIZ9ONT/KdDPRPr0cAo8nuLnYycE+6+fZ/Jb0PHEB2b+Simf7xRxzz84c3PWI1nrhsUB1HY2ZWevW9T2GHiJgOkJ63T+XdyG5vWWlaKtuApHMkTZA0Yfbs2UUN1sysqdladjSrmrJqb/QQETdHRJ+I6NO5c7UX+TMzsy1U30lhpqQuAOl5ViqfBvTIG6872U3OzcysHtV3UhgJDE2vhwIP5pWfIamVpJ2A3YCX6zk2M7Mmr2g7miX9lWyncidJ04DLgauB+yR9HZgKnAYQEW9Jug94G1gDnBcRa4sVm5mZVa+YRx+dWcOgo2oY/0rgymLFY2Zmm7a17Gg2M7OtgJOCmZnlOCmYmVmOk4KZmeU4KZiZWY6TgpmZ5TgpmJlZjpOCmZnlOCmYmVmOk4KZmeU4KZiZWY6TgpmZ5TgpmJlZjpOCmZnlOCmYmVmOk4KZmeU4KZiZWY6TgpmZ5TgpmJlZjpOCmZnlOCmYmVmOk4KZmeU4KZiZWY6TgpmZ5TgpmJlZjpOCmZnlOCmYmVmOk4KZmeU4KZiZWY6TgpmZ5TgpmJlZjpOCmZnllCQpSPqBpLckvSnpr5K2kbSdpCclvZeeO5QiNjOzpqzek4KkbsD3gD4RsQ/QHDgDuAgYFRG7AaPSezMzq0el6j5qAbSW1AJoA1QAJwMj0vARwOASxWZm1mTVe1KIiI+Ba4GpwHRgYUQ8AewQEdPTONOB7aubXtI5kiZImjB79uz6CtvMrEkoRfdRB7JWwU5AV6CtpLMKnT4ibo6IPhHRp3PnzsUK08ysSSpF99EA4L8RMTsiVgMPAAcDMyV1AUjPs0oQm5lZk1aKpDAV6CupjSQBRwGTgJHA0DTOUODBEsRmZtaktajvBUbES5LuByYCa4BXgZuBMuA+SV8nSxyn1XdsZmZNXb0nBYCIuBy4vErxSrJWg5mZlYjPaDYzsxwnBTMzy3FSMDOzHCcFMzPLcVIwM7McJwUzM8vZZFKQdI2k9pJaSholac7mXJbCzMwajkJaCsdExCJgEDAN2B3436JGZWZmJVFIUmiZno8H/hoR84oYj5mZlVAhZzQ/JOkdYDnw/yR1BlYUNywzMyuFTbYUIuIi4CCyO6WtBpaRXfrazMwamUJ2NLcBzgNuTEVdgT7FDMrMzEqjkH0KtwOryO55ANnO5l8ULSIzMyuZQpLCLhFxDbAaICKWAypqVGZmVhKFJIVVkloDASBpF7LLXJuZWSNTyNFHlwP/AnpIuhs4BBhWzKDMzKw0NpkUIuJJSROBvmTdRudHxJyiR2ZmZvWuxu4jSXuk5/2AHYHpQAXQM5WZmVkjs7GWwg+Bc4BfVzMsgCOLEpGZmZVMjUkhIs6R1Ay4JCJeqMeYzMysRDZ69FFErAOuradYzMysxAo5JPUJSadI8rkJZmaNXCGHpP4QaAuskbSC7AikiIj2RY3MzMzqXSGHpLarj0DMzKz0Crkg3qhCyszMrOGrsaUgaRugDdBJUgc+ud5Re7IrpZqZWSOzse6jbwHfJ0sAr/BJUlgEXF/kuMzMrAQ2dp7C74DfSfpuRPyhHmMyM7MSKWRH8x8kHQz0yh8/Iv5cxLjMzKwENpkUJN0J7AK8BqxNxQE4KZiZNTKFnKfQB9grIqLYwZiZWWkVckbzm8Cnix2ImZmVXiEthU7A25JeJu+OaxFx0pYuVFI5cAuwD1lX1NeAd4F7yfZdTAZOj4j5W7oMMzPbfIUkheFFWO7vgH9FxKmSPkV2PsRPgFERcbWki4CLgB8XYdlmZlaDQo4+GlOXC5TUHjiMdEvPiFhFdh/ok4H+abQRwGicFMzM6lUhl7lYLGlReqyQtFbSolosc2dgNnC7pFcl3SKpLbBDREwHSM/b1xDPOZImSJowe/bsWoRhZmZVbTIpRES7iGifHtsApwB/rMUyWwD7ATdGxOeBpWRdRQWJiJsjok9E9OncuXMtwjAzs6oKOfpoPRHxT2p3K85pwLSIeCm9v58sScyU1AUgPc+qxTLMzGwLFHLy2hfz3jYjO29hi89ZiIgZkj6S9JmIeBc4Cng7PYYCV6fnB7d0GWZmtmUKOfroxLzXa8gOFz25lsv9LnB3OvLoQ+CrZAnnPklfB6YCp9VyGWZmtpkKOfroq3W90Ih4jazFUdVRdb0sMzMrXCFHH3WX9A9JsyTNlPR3Sd3rIzgzM6tfhexovh0YSXZfhW7AQ6nMzMwamUKSQueIuD0i1qTHHYCPBTUza4QKSQpzJJ0lqXl6nAXMLXZgZmZW/wpJCl8DTgdmANOBU1OZmZk1MoUcfTQV2OIropqZWcNRyNFHI9Klrivfd5B0W3HDMjOzUiik++hzEbGg8k26x8HnixeSmZmVSiFJoZmkDpVvJG1HYWdCm5lZA1PIyv3XwIuS7ie75tHpwJVFjcrMzEqikB3Nf5Y0gezKqAK+GBFvFz0yMzOrdwV1A6Uk4ERgZtbIbfb9FMzMrPGqMSlIalWfgZiZWeltrKUwFkDSnfUUi5mZldjG9il8StJQ4OAqd18DICIeKF5YZmZWChtLCucCQ4By1r/7GmSHpjopmJk1MjUmhYh4Hnhe0oSIuLUeYzIzsxIp5JDUOyV9DzgsvR8D3BQRq4sXlpmZlUIhSeEGoGV6BjgbuBH4RrGCMjOz0igkKewfEfvmvX9a0r+LFZCZmZVOISevrZW0S+UbSTsDa4sXkpmZlUohLYX/BZ6R9CHZtY92BL5a1KjMzKwkCrkg3ihJuwGfIUsK70TEyqJHZmZm9a7QC+KtBF4vcixmZlZiviCemZnlOCmYmVnOJpOCpFGFlJmZWcNX4z4FSdsAbYBO6R7NSoPaA13rITYzM6tnG9vR/C3g+2QJ4BU+SQqLgOuLHJeZmZXAxi6I9zvgd5K+GxF/qMeYzMysRAo5T+EPkg4GeuWPHxF/LmJcZmZWAptMCunOa7sAr/HJ5S0CqFVSkNQcmAB8HBGDJG0H3EuWfCYDp0fE/Nosw8zMNk8hJ6/1AfaKiKjjZZ8PTCLbcQ1wETAqIq6WdFF6/+M6XqaZmW1EIecpvAl8ui4XKqk7cAJwS17xycCI9HoEMLgul2lmZptWSEuhE/C2pJeB3DWPIuKkWiz3t8CFQLu8sh0iYnqa93RJ21c3oaRzgHMAevbsWYsQzMysqkKSwvC6XKCkQcCsiHhFUv/NnT4ibgZuBujTp09dd2mZmTVphRx9NKaOl3kIcJKk44FtgPaS7gJmSuqSWgldgFl1vFwzM9uEQi5zsVjSovRYIWmtpEVbusCIuDgiukdEL+AM4OmIOAsYCQxNow0FHtzSZZiZ2ZYppKWQ3++PpMHAAUWI5WrgPklfB6YCpxVhGWZmthEF3U8hX0T8Mx0yWmsRMRoYnV7PBY6qi/mamdmWKeTktS/mvW1Gdt6Cd/CamTVChbQUTsx7vYbsbOOTixKNmZmVVCH7FL5aH4GYmVnpFXL0UXdJ/5A0S9JMSX9PZySbmVkjU8hlLm4nO1y0K9ANeCiVNWnNmrdE0hY9WrZqvcXTdu3us7jNrHgK2afQOSLyk8Adkr5frIAainVrV3PMzx/eommfuGxQraY125Rzzz2Xbt26cemll9bJ/Hr16sUtt9zCgAED6mR+tvUqpKUwR9JZkpqnx1nA3GIHZtaUSeL9999fr2z48OGcddZZBU1/00035RLC6NGj6d69eD2+06ZN45RTTqFTp05su+22fPazn+WOO+4AYPLkyUhizZo1Bc+vV69ePPXUU0WK1jalkJbC14A/AteRHYr6YiozM+Pss89m3333ZcqUKbRq1Yo33niDGTNmlDos20KbbClExNSIOCkiOkfE9hExOCKm1EdwZla9yq3/X//612y//fZ06dKF22//pJd32LBhXHLJJSxdupSBAwdSUVFBWVkZZWVlVFRUsG7dOq6++mp22WUXOnbsyOmnn868efNy0995553suOOOdOzYkSuvvHKjsYwfP55hw4bRtm1bWrRowec//3kGDhwIwGGHHQZAeXk5ZWVljB07lg8++IAjjzySjh070qlTJ4YMGcKCBQuALMFMnTqVE088kbKyMq655hoAxo0bx8EHH0x5eTn77rsvo0ePzi3/jjvuYOedd6Zdu3bstNNO3H333XVSx01VIUcfjZBUnve+g6TbihuWmW3KjBkzWLhwIR9//DG33nor5513HvPnr3+zwrZt2/LYY4/RtWtXlixZwpIlS+jatSu///3v+ec//8mYMWOoqKigQ4cOnHfeeQC8/fbbfPvb3+bOO++koqKCuXPnMm3atBrj6Nu3L+eddx733HMPU6dOXW/Ys88+C8CCBQtYsmQJBx10EBHBxRdfTEVFBZMmTeKjjz5i+PDhQJaMevbsyUMPPcSSJUu48MIL+fjjjznhhBO45JJLmDdvHtdeey2nnHIKs2fPZunSpXzve9/jscceY/Hixbz44ov07t27Dmu56Slkn8LnImJB5Zt0i8zPFy8kMytEy5Ytueyyy2jZsiXHH388ZWVlvPvuuwVN+3//939ceeWVdO/enVatWjF8+HDuv/9+1qxZw/3338+gQYM47LDDaNWqFVdccQXNmtW8qvjb3/7GoYceyhVXXMFOO+1E7969GT9+fI3j77rrrhx99NG0atWKzp0788Mf/pAxY2q+GPNdd93F8ccfz/HHH0+zZs04+uij6dOnD48++igAzZo1480332T58uV06dKFvffeu6A6sOoVkhSaSepQ+SbdS3mzr5lkZoVr3rw5q1evXq9s9erVtGzZMve+Y8eOtGjxyV+xTZs2LFmypKD5T5kyhS984QuUl5dTXl7OnnvuSfPmzZk5cyYVFRX06NEjN27btm3p2LFjjfPq0KEDV199NW+99RYzZ86kd+/eDB48mJru4Dtr1izOOOMMunXrRvv27TnrrLOYM2fORmP929/+lou1vLyc559/nunTp9O2bVvuvfdebrrpJrp06cIJJ5zAO++8U1AdWPUKSQq/Bl6UdIWkn5PtaL6muGGZNW09e/Zk8uTJ65X997//Zccdd9zseUnaoKxHjx489thjLFiwIPdYsWIF3bp1o0uXLnz00Ue5cZctW8bcuYUdcNipUyd+9KMfUVFRwbx586pd9sUXX4wkXn/9dRYtWsRdd921XgKpOk2PHj04++yz14t16dKlXHRRdl3OY489lieffJLp06ezxx578M1vfrOgWK16hexo/jNwCjATmA18MSLuLHZgZk3Zl770JX7xi18wbdo01q1bx1NPPcVDDz3Eqaeeutnz2mGHHZg7dy4LFy7MlZ177rn89Kc/ZcqU7JiR2bNn8+CD2S1MTj31VB5++GGef/55Vq1axWWXXca6detqnP+Pf/xj3nzzTdasWcPixYu58cYb2XXXXenYsSOdO3emWbNmfPjhh7nxFy9eTFlZGeXl5Xz88cf86le/2iDe/PHPOussHnroIR5//HHWrl3LihUrGD16NNOmTWPmzJmMHDmSpUuX0qpVK8rKymjevPlm15F9opCWAhHxdkT8MSL+EBFvFzsos6busssu4+CDD6Zfv3506NCBCy+8kLvvvpt99tlns+e1xx57cOaZZ7LzzjtTXl5ORUUF559/PieddBLHHHMM7dq1o2/fvrz00ksA7L333lx//fV8+ctfpkuXLnTo0GGj5zksW7Ys1xW18847M2XKFEaOHAlkXVo//elPOeSQQygvL2fcuHFcfvnlTJw4kW233ZYTTjiBL37xi+vN7+KLL+YXv/gF5eXlXHvttfTo0YMHH3yQq666is6dO9OjRw9+9atfsW7dOtatW8evf/1runbtynbbbceYMWO44YYbNruO7BOqqd+vIejTp09MmDBhi6eXVLKzkmszbUP+zsys9CS9EhF9qhtWUEvBzMyaBicFsxJat24dw4cPpzYtXrO65KRgViJr165lyJAh/PKXv+SII45g4sSJpQ7JzEnBrBTWrl3LmWeeyciRI1mxYgVLliyhf//+vPbaa6UOzZo4JwWzerZmzRpOO+00HnnkEZYtW5YrX7x4Mf3799+sK4qa1TWfmWxWj9asWcMpp5zCU089tV5CgOzwzQsuuGC9s5TN6pt/fWb1ZPXq1QwePJhnnnmG5cuXrzesTZs2XHrppbmzdM1KxUnBrB6sWrWKk046iWeffbbahPDzn/+cCy64oETRmX3CScGsyFauXMkJJ5zAiy++WG1CuOqqqzj//PNLFJ3Z+pwUzIpoxYoVHHfccbz88ssbJITWrVtzzTXX5O5jYLY1cFIwK5Lly5dzzDHH8Morr1SbEK677jq+9a1vlSg6s+o5KZgVwbJlyxgwYACvvvoqK1asWG9Y69at+f3vf883vvGNEkVnVjMnBbM6tnTpUo488khef/31ahPCjTfeyNChQ0sUndnGOSmY1aHKM5PffPNNVq5cud6w1q1b86c//YkhQ4aUKDqzTXNSMKsjixcv5rDDDmPSpEnVJoTbbruNM844o0TRmRXGl7loYJo1b4mkLXp07d6z1OE3WgsXLqRfv341JoQRI0Y4IViDUO8tBUk9gD8DnwbWATdHxO8kbQfcC/QCJgOnR8T8+o5va7du7epa3aDH6t6CBQvo168f7733HqtWrVpvWOvWrfnLX/7C4MGDSxSd2eYpRUthDXBBROwJ9AXOk7QXcBEwKiJ2A0al92ZbtXnz5nHQQQfVmBDuvfdeJwRrUOo9KUTE9IiYmF4vBiYB3YCTgRFptBGA/0m2VZs7dy59+/blgw8+2CAhtGnThvvvv58TTzyxRNGZbZmS7lOQ1Av4PPASsENETIcscQDb1zDNOZImSJowe/bs+grVbD2zZ8/mwAMPZPLkyaxevXq9Ya1bt+aBBx7g+OOPL1F0ZluuZElBUhnwd+D7EbGo0Oki4uaI6BMRfTp37ly8AM1qMHPmTA444ACmTp26QUJo06YNI0eO5Nhjjy1RdGa1U5KkIKklWUK4OyIeSMUzJXVJw7sAs0oRm9nGzOHBExYAAA25SURBVJgxgwMOOIBp06ZVmxAeeeQRBgwYUKLozGqv3pOCJAG3ApMi4jd5g0YClad5DgUerO/YzDamoqKC/fffn4qKig3ujtamTRv+9a9/0b9//9IEZ1ZHSnHy2iHA2cAbkipvSPsT4GrgPklfB6YCp5UgNrNqTZs2jb59+zJjxgzWrl273rC2bdvy+OOPc8ghh5QoOrO6U+9JISKeB1TD4KPqMxazQkydOpUDDzyQ2bNnb5AQysrKePLJJ+nbt2+JojOrW77MhdlGTJ48mQMPPJA5c+awbt269YaVlZXx9NNPs//++5coOrO656RgVoMPP/yQvn37Mnfu3A0SQrt27Rg9ejT77bdfiaIzKw4nBbNqvP/++/Tt25d58+YREesNa9++PWPGjKF3794lis6seJwUzKr4z3/+w0EHHcT8+fM3SAjbbrstzz33HJ/97GdLFJ1ZcfkqqU1Iba6w2lSusvrOO+/Qt2/fahNCeXk5L7zwghOCNWpuKTQhtbnCKjT+q6y+9dZb9OvXjwULFqxXLimXEPbcc88SRWdWP9xSMANef/11DjnkkGoTQocOHRg7dqwTgjUJTgrW5L322msceuihLFy4cL1ySXTs2JGXXnqJz3zmMyWKzqx+ufvImrSJEyfSv39/Fi9evF55s2bN6NixI+PGjWPnnXcuUXRm9c8tBWuyxo8fz+GHH15tQujcuTMvv/yyE4I1OU4K1iSNGzeOI488kiVLlqxX3rx5c7bffntefvllevXqVZrgzErIScEarTVr1nDppZeyaNH6t+t48cUXGTBgQLUJYYcddmD8+PH07Nn4D781q46TgjVazzzzDFdddRWHHXZYrovoueee45hjjmHp0qXrjduiRQu6dOnC+PHj6d69eynCNdsqOClYo3Xbbbexbt063nnnHQ4//HAeeeQRBg4cWG1C6Nq1K+PHj6dr164litZs6+Cjj6xRWrVqFSNHjgRg5cqVTJo0icGDB29wc5yWLVvSvXt3xo0bx/bbV3tbcLMmxUnBGqUnnniC5s2b596vWLFig3FatmxJz549GTt2LL7ft1nG3UfWKN16660bHGqar2XLlvTq1YuXXnrJCcEsj5OCNTrLly/n8ccf3+g4khgzZgwdO3asp6jMGgYnBWt0Hn30UVq02HjPaPPmzRkyZAirVq2qp6jMGgYnBWt0brnllo12HUHWmhg3bhyDBg1i9erV9RSZ2dbPScEKVpv7MdTXvRgWL17MM888U9C4khg1ahRjx44tclRmDYePPrKC1eZ+DPV1L4aHHnqIli1bsnLlymqHl5WVsWrVKvbff3+GDRvG4MGD6dSpU73EZtYQOClYo3LLLbdscPmKdu3asWrVKvr168ewYcMYNGgQ5eXlJYrQbOvmpGCNxvz583n22WeBLBGsXr2ao446iqFDhzJw4EDKyspKHKHZ1s9JwRqN1157jdatW3Psscfyla98haOPPprWrVuXOiyzBsVJwRqNI444gkWLFiGp1KGYNVg++sgaFScEs9pxUrCtXtfuPbf6Q2HNGgt3H9lWb/rHH231h8KaNRZuKVi9qM2Jb6XkVoo1NW4pWL1oCCe+VcetFGtqnBSsUatsoZhZYba6pCDpOOB3QHPgloi4usQhWQNWmxYKeGvfmp6tap+CpObA9cBAYC/gTEl7lTYqsy1Tm/0oLVu1Lsm0DXU/SEPd97M1xr21tRQOAN6PiA8BJN0DnAy8XdKozLZAbfejlGrahqih7vvZGuNWRBRlxltC0qnAcRHxjfT+bODAiPhO3jjnAOekt58B3t3CxXUC5tQi3MbK9bIh18mGXCcbakh1smNEVHsf2q2tpVDdHsH1slZE3AzcXOsFSRMiok9t59PYuF425DrZkOtkQ42lTraqfQrANKBH3vvuQEWJYjEza3K2tqQwHthN0k6SPgWcAYwscUxmZk3GVtV9FBFrJH0HeJzskNTbIuKtIi2u1l1QjZTrZUOukw25TjbUKOpkq9rRbGZmpbW1dR+ZmVkJOSmYmVlOk0wKko6T9K6k9yVdVOp4SkHSbZJmSXozr2w7SU9Kei89dyhljPVNUg9Jz0iaJOktSeen8iZbL5K2kfSypH+nOvlZKm+ydVJJUnNJr0p6OL1vFHXS5JKCL6WRcwdwXJWyi4BREbEbMCq9b0rWABdExJ5AX+C89NtoyvWyEjgyIvYFegPHSepL066TSucDk/LeN4o6aXJJgbxLaUTEKqDyUhpNSkQ8C8yrUnwyMCK9HgEMrtegSiwipkfExPR6MdkfvhtNuF4isyS9bZkeQROuEwBJ3YETgFvyihtFnTTFpNAN+Cjv/bRUZrBDREyHbAUJbF/ieEpGUi/g88BLNPF6Sd0krwGzgCcjosnXCfBb4EJgXV5Zo6iTppgUNnkpDWvaJJUBfwe+HxGLSh1PqUXE2ojoTXaFgQMk7VPqmEpJ0iBgVkS8UupYiqEpJgVfSqNmMyV1AUjPs0ocT72T1JIsIdwdEQ+k4iZfLwARsQAYTbYvqinXySHASZImk3U/HynpLhpJnTTFpOBLadRsJDA0vR4KPFjCWOqdJAG3ApMi4jd5g5psvUjqLKk8vW4NDADeoQnXSURcHBHdI6IX2frj6Yg4i0ZSJ03yjGZJx5P1CVZeSuPKEodU7yT9FehPdrnfmcDlwD+B+4CewFTgtIioujO60ZLUD3gOeINP+op/QrZfoUnWi6TPke00bU62EXlfRPxcUkeaaJ3kk9Qf+FFEDGosddIkk4KZmVWvKXYfmZlZDZwUzMwsx0nBzMxynBTMzCzHScHMzHKcFKzOSPq0pHskfSDpbUmPSto9Ddtb0tOS/pOuInlpOi8ASUMkvZ4eL0rat4Sf4VxJX9nMabpKur9YMW2tJL2YnntJ+nKp47G64UNSrU6kFfyLwIiIuCmV9QbaAROAN4FvR8QTktqQnTX8cERcL+lgshPG5ksaCAyPiANL80kaF0nNI2JtkZfRn3SsfjGXY/XDLQWrK0cAqysTAkBEvBYRzwFfBl6IiCdS+TLgO6RLC0fEixExP002juzSIxuQdIyksZImSvpbukYRkiZLuioNmyBpP0mPpxbLuWmc/pLGSLovtVauTi2UlyW9IWmXNN5wST9Kr7+XWjyvS7onlR0u6bX0eFVSu7Sl/GYavo2k29M8X5V0RCofJukBSf9KLaVrUnlzSXdIejNN84NqPvcdkm6S9FyKfVDetL+SND7F+K28z/qMpL+QnYhXdX7HpTr8t6RRqeyA1Ep7NT1/Ji/uB1Pc70q6PG8+lVdPvRo4NNXJD1J9PJeWMTElfWsoIsIPP2r9AL4HXFfDsN8A51dTPh9oX6XsR8At1YzbCXgWaJve/xi4LL2eTNYKAbgOeJ2shdKZ7MJlkJ29vQDoArQCPgZ+loadD/w2vR5OttUL2TWxWqXX5en5IeCQ9LoMaAH0At5MZRcAt6fXe5Cd2boNMAz4ENg2vZ9Cdg2u/yG78ij5y6ny2e8A/kW2Ebcb2fW7tgHOAS5J47Qia5HtlD7rUmCnaubVmewqwTul99ul5/ZAi/R6APD39HoYMB3oCLQma/H1ScOW5NXtw3nLaANsk17vBkwo9e/Tj8IfLTArPlHzlWhz5Wmr+utAv2rG60t2U6QX0q6ITwFj84ZXXr/qDaAssvshLJa0QunaPcD4SJc2lvQB8ETeNEdUs8zXgbsl/ZPsEiAALwC/kXQ38EBETEvxVOoH/AEgIt6RNAXYPQ0bFREL0/LfBnYE3gJ2lvQH4JG8mKq6LyLWAe9J+pAs4RwDfE7SqWmcbclWwquAlyPiv9XMpy/wbOWw+OQyDNsCIyTtRvadtMyb5smImJvifiB9xgk1xEma9o+p+3Bt3ue3BsDdR1ZX3iLb6q1pWJ/8Akk7k21pLk7vP0d2w5KTK1dAVYhs5dQ7PfaKiK/nDV+Zntflva5836LKOFXHyx8n3wlkd+n7H+AVSS0i4mrgG2RbzeMk7VFNnDXJX/5asi3z+cC+ZFcfPY/1b9qSr2pSjbSs7+bVyU6RuujIWgrVqSlBXwE8ExH7ACeStUQ2tuyN+QHZ9bT2JfveP7WJ8W0r4qRgdeVpoJWkb1YWSNpf0uHA3UA/SQNSeWvg90Blv3pP4AHg7Ij4Tw3zHwccImnXNE0bpSObikFSM6BHRDxDdjOVcqBM0i4R8UZE/JJsa7lqUngWGJLmsTvZxdHe3chyOgHNIuLvwKXAfjWMepqkZmnfx85pno8D31Z2uW8k7S6p7SY+2ljgcEk7pWm2S+XbknWpQdZllO9oZfcfbk12N7EXqgxfTNZdV2lbYHpq2ZxNdjE9ayDcfWR1IiJC0heA30q6CFhB1tf//YhYLulk4A+SridbSdwJ/DFNfhlZn/UNqStmTUT0qTL/2ZKGAX+V1CoVXwLUlERqqzlwl6Rtybaur4uIBZKuSN1ca4G3gcfI9lNUugG4SdIbZPd8HhYRK6t0MeXrBtyekhDAxTWM9y4wBtgBODciVki6hWx/xkRlC5jNJm4BmerxHOCBtMxZwNFkCXqEpB+SJfh8z5N9X7sCf4mIql1HrwNrJP2bbP/HDcDfJZ0GPEPNrRbbCvmQVLOtnKQ7yHbk1vu5ECkR94mI79T3sq003H1kZmY5bimYmVmOWwpmZpbjpGBmZjlOCmZmluOkYGZmOU4KZmaW8/8DzQYcqgE8H+EAAAAASUVORK5CYII=\n",
      "text/plain": [
       "<Figure size 432x288 with 1 Axes>"
      ]
     },
     "metadata": {
      "needs_background": "light"
     },
     "output_type": "display_data"
    }
   ],
   "source": [
    "fig,ax= plt.subplots()\n",
    "plt.hist(co2_plot2, bins=20, color='steelblue',\n",
    "         edgecolor='black');\n",
    "ax.annotate('United States', xy=(17.020216,5), xytext=(30,30),fontsize=12,ha='center',\n",
    "             arrowprops=dict(facecolor='black'))\n",
    "plt.title(\"CO2 emmissions per capita by country in 2011\")\n",
    "plt.xlabel(\"CO2 emmissions per capita\")\n",
    "plt.ylabel(\"count of countries\");\n",
    "plt.show();"
   ]
  },
  {
   "cell_type": "code",
   "execution_count": 25,
   "metadata": {
    "scrolled": true
   },
   "outputs": [
    {
     "data": {
      "image/png": "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\n",
      "text/plain": [
       "<Figure size 2880x504 with 1 Axes>"
      ]
     },
     "metadata": {
      "needs_background": "light"
     },
     "output_type": "display_data"
    }
   ],
   "source": [
    "#just for practicing\n",
    "\n",
    "# fig,ax= plt.subplots(figsize=(40,7))\n",
    "# ax.bar(country_plot2,co2_plot2)\n",
    "# plt.xticks(rotation='vertical')\n",
    "# ax.annotate('United States', xy=('United States', 17.020216), xytext=(223,30),fontsize=18,ha='center',\n",
    "#              arrowprops=dict(facecolor='black'))\n",
    "\n",
    "# ax.margins(x=0)\n",
    "# plt.title(\"CO2 emmissions per capita by country in 2011\")\n",
    "# plt.xlabel(\"Country\")\n",
    "# plt.ylabel(\"CO2 emmissions per capita\");\n",
    "# plt.show();\n"
   ]
  },
  {
   "cell_type": "markdown",
   "metadata": {},
   "source": [
    "### ScatterPlot for comparing GDP against CO2 emissions (per capita) in USA"
   ]
  },
  {
   "cell_type": "markdown",
   "metadata": {},
   "source": [
    "**Q2.4** (20 points)\n",
    "\n",
    "- Select GDP Per capital for USA (Indicator = 'GDP per capita (constant 2005 US$)')\n",
    "- Use a scattor plot to explore the relationship between GDP and CO2 emissions\n",
    "\n",
    "Hint: before plotting, you have to make sure that the two measures cover the same period of time"
   ]
  },
  {
   "cell_type": "code",
   "execution_count": 26,
   "metadata": {},
   "outputs": [
    {
     "data": {
      "text/plain": [
       "(55, 6)"
      ]
     },
     "execution_count": 26,
     "metadata": {},
     "output_type": "execute_result"
    },
    {
     "data": {
      "text/plain": [
       "(52, 6)"
      ]
     },
     "execution_count": 26,
     "metadata": {},
     "output_type": "execute_result"
    },
    {
     "data": {
      "text/html": [
       "<div>\n",
       "<style scoped>\n",
       "    .dataframe tbody tr th:only-of-type {\n",
       "        vertical-align: middle;\n",
       "    }\n",
       "\n",
       "    .dataframe tbody tr th {\n",
       "        vertical-align: top;\n",
       "    }\n",
       "\n",
       "    .dataframe thead th {\n",
       "        text-align: right;\n",
       "    }\n",
       "</style>\n",
       "<table border=\"1\" class=\"dataframe\">\n",
       "  <thead>\n",
       "    <tr style=\"text-align: right;\">\n",
       "      <th></th>\n",
       "      <th>Year</th>\n",
       "      <th>GDP</th>\n",
       "    </tr>\n",
       "  </thead>\n",
       "  <tbody>\n",
       "    <tr>\n",
       "      <th>22282</th>\n",
       "      <td>1960</td>\n",
       "      <td>15482.707760</td>\n",
       "    </tr>\n",
       "    <tr>\n",
       "      <th>48759</th>\n",
       "      <td>1961</td>\n",
       "      <td>15578.409657</td>\n",
       "    </tr>\n",
       "    <tr>\n",
       "      <th>77142</th>\n",
       "      <td>1962</td>\n",
       "      <td>16276.426685</td>\n",
       "    </tr>\n",
       "    <tr>\n",
       "      <th>105760</th>\n",
       "      <td>1963</td>\n",
       "      <td>16749.789436</td>\n",
       "    </tr>\n",
       "    <tr>\n",
       "      <th>134798</th>\n",
       "      <td>1964</td>\n",
       "      <td>17476.822248</td>\n",
       "    </tr>\n",
       "    <tr>\n",
       "      <th>166730</th>\n",
       "      <td>1965</td>\n",
       "      <td>18364.312341</td>\n",
       "    </tr>\n",
       "    <tr>\n",
       "      <th>198096</th>\n",
       "      <td>1966</td>\n",
       "      <td>19333.418013</td>\n",
       "    </tr>\n",
       "    <tr>\n",
       "      <th>230814</th>\n",
       "      <td>1967</td>\n",
       "      <td>19602.143105</td>\n",
       "    </tr>\n",
       "    <tr>\n",
       "      <th>263369</th>\n",
       "      <td>1968</td>\n",
       "      <td>20338.952256</td>\n",
       "    </tr>\n",
       "    <tr>\n",
       "      <th>296354</th>\n",
       "      <td>1969</td>\n",
       "      <td>20765.535280</td>\n",
       "    </tr>\n",
       "    <tr>\n",
       "      <th>358010</th>\n",
       "      <td>1970</td>\n",
       "      <td>21183.217795</td>\n",
       "    </tr>\n",
       "    <tr>\n",
       "      <th>425989</th>\n",
       "      <td>1971</td>\n",
       "      <td>21606.394645</td>\n",
       "    </tr>\n",
       "    <tr>\n",
       "      <th>495783</th>\n",
       "      <td>1972</td>\n",
       "      <td>22501.419194</td>\n",
       "    </tr>\n",
       "    <tr>\n",
       "      <th>565205</th>\n",
       "      <td>1973</td>\n",
       "      <td>23545.391149</td>\n",
       "    </tr>\n",
       "    <tr>\n",
       "      <th>635285</th>\n",
       "      <td>1974</td>\n",
       "      <td>23210.587448</td>\n",
       "    </tr>\n",
       "    <tr>\n",
       "      <th>707764</th>\n",
       "      <td>1975</td>\n",
       "      <td>22937.426641</td>\n",
       "    </tr>\n",
       "    <tr>\n",
       "      <th>781179</th>\n",
       "      <td>1976</td>\n",
       "      <td>23944.249618</td>\n",
       "    </tr>\n",
       "    <tr>\n",
       "      <th>856837</th>\n",
       "      <td>1977</td>\n",
       "      <td>24797.083143</td>\n",
       "    </tr>\n",
       "    <tr>\n",
       "      <th>932497</th>\n",
       "      <td>1978</td>\n",
       "      <td>25900.326831</td>\n",
       "    </tr>\n",
       "    <tr>\n",
       "      <th>1008328</th>\n",
       "      <td>1979</td>\n",
       "      <td>26429.555395</td>\n",
       "    </tr>\n",
       "    <tr>\n",
       "      <th>1089607</th>\n",
       "      <td>1980</td>\n",
       "      <td>26113.124668</td>\n",
       "    </tr>\n",
       "    <tr>\n",
       "      <th>1173536</th>\n",
       "      <td>1981</td>\n",
       "      <td>26528.980649</td>\n",
       "    </tr>\n",
       "    <tr>\n",
       "      <th>1258738</th>\n",
       "      <td>1982</td>\n",
       "      <td>25775.146754</td>\n",
       "    </tr>\n",
       "    <tr>\n",
       "      <th>1343992</th>\n",
       "      <td>1983</td>\n",
       "      <td>26723.693102</td>\n",
       "    </tr>\n",
       "    <tr>\n",
       "      <th>1429895</th>\n",
       "      <td>1984</td>\n",
       "      <td>28416.486173</td>\n",
       "    </tr>\n",
       "    <tr>\n",
       "      <th>1517335</th>\n",
       "      <td>1985</td>\n",
       "      <td>29359.665800</td>\n",
       "    </tr>\n",
       "    <tr>\n",
       "      <th>1605202</th>\n",
       "      <td>1986</td>\n",
       "      <td>30111.098270</td>\n",
       "    </tr>\n",
       "    <tr>\n",
       "      <th>1694598</th>\n",
       "      <td>1987</td>\n",
       "      <td>30876.250494</td>\n",
       "    </tr>\n",
       "    <tr>\n",
       "      <th>1784067</th>\n",
       "      <td>1988</td>\n",
       "      <td>31883.459584</td>\n",
       "    </tr>\n",
       "    <tr>\n",
       "      <th>1876583</th>\n",
       "      <td>1989</td>\n",
       "      <td>32746.215965</td>\n",
       "    </tr>\n",
       "    <tr>\n",
       "      <th>1992875</th>\n",
       "      <td>1990</td>\n",
       "      <td>32999.840713</td>\n",
       "    </tr>\n",
       "    <tr>\n",
       "      <th>2108826</th>\n",
       "      <td>1991</td>\n",
       "      <td>32537.686667</td>\n",
       "    </tr>\n",
       "    <tr>\n",
       "      <th>2230117</th>\n",
       "      <td>1992</td>\n",
       "      <td>33230.451267</td>\n",
       "    </tr>\n",
       "    <tr>\n",
       "      <th>2353864</th>\n",
       "      <td>1993</td>\n",
       "      <td>33695.631674</td>\n",
       "    </tr>\n",
       "    <tr>\n",
       "      <th>2479530</th>\n",
       "      <td>1994</td>\n",
       "      <td>34628.874177</td>\n",
       "    </tr>\n",
       "    <tr>\n",
       "      <th>2613859</th>\n",
       "      <td>1995</td>\n",
       "      <td>35149.368770</td>\n",
       "    </tr>\n",
       "    <tr>\n",
       "      <th>2748826</th>\n",
       "      <td>1996</td>\n",
       "      <td>36061.602183</td>\n",
       "    </tr>\n",
       "    <tr>\n",
       "      <th>2885119</th>\n",
       "      <td>1997</td>\n",
       "      <td>37228.767196</td>\n",
       "    </tr>\n",
       "    <tr>\n",
       "      <th>3022452</th>\n",
       "      <td>1998</td>\n",
       "      <td>38434.753082</td>\n",
       "    </tr>\n",
       "    <tr>\n",
       "      <th>3164380</th>\n",
       "      <td>1999</td>\n",
       "      <td>39776.100418</td>\n",
       "    </tr>\n",
       "    <tr>\n",
       "      <th>3319022</th>\n",
       "      <td>2000</td>\n",
       "      <td>40945.633827</td>\n",
       "    </tr>\n",
       "    <tr>\n",
       "      <th>3469669</th>\n",
       "      <td>2001</td>\n",
       "      <td>40938.063070</td>\n",
       "    </tr>\n",
       "    <tr>\n",
       "      <th>3624311</th>\n",
       "      <td>2002</td>\n",
       "      <td>41284.450646</td>\n",
       "    </tr>\n",
       "    <tr>\n",
       "      <th>3778080</th>\n",
       "      <td>2003</td>\n",
       "      <td>42079.984207</td>\n",
       "    </tr>\n",
       "    <tr>\n",
       "      <th>3935823</th>\n",
       "      <td>2004</td>\n",
       "      <td>43270.701948</td>\n",
       "    </tr>\n",
       "    <tr>\n",
       "      <th>4115443</th>\n",
       "      <td>2005</td>\n",
       "      <td>44307.920585</td>\n",
       "    </tr>\n",
       "    <tr>\n",
       "      <th>4292637</th>\n",
       "      <td>2006</td>\n",
       "      <td>45052.921254</td>\n",
       "    </tr>\n",
       "    <tr>\n",
       "      <th>4472959</th>\n",
       "      <td>2007</td>\n",
       "      <td>45420.187361</td>\n",
       "    </tr>\n",
       "    <tr>\n",
       "      <th>4652803</th>\n",
       "      <td>2008</td>\n",
       "      <td>44861.390895</td>\n",
       "    </tr>\n",
       "    <tr>\n",
       "      <th>4831465</th>\n",
       "      <td>2009</td>\n",
       "      <td>43235.558409</td>\n",
       "    </tr>\n",
       "    <tr>\n",
       "      <th>5018182</th>\n",
       "      <td>2010</td>\n",
       "      <td>43961.168477</td>\n",
       "    </tr>\n",
       "    <tr>\n",
       "      <th>5194861</th>\n",
       "      <td>2011</td>\n",
       "      <td>44324.944522</td>\n",
       "    </tr>\n",
       "    <tr>\n",
       "      <th>5370008</th>\n",
       "      <td>2012</td>\n",
       "      <td>45008.614113</td>\n",
       "    </tr>\n",
       "    <tr>\n",
       "      <th>5527438</th>\n",
       "      <td>2013</td>\n",
       "      <td>45660.733802</td>\n",
       "    </tr>\n",
       "    <tr>\n",
       "      <th>5637323</th>\n",
       "      <td>2014</td>\n",
       "      <td>46405.247065</td>\n",
       "    </tr>\n",
       "  </tbody>\n",
       "</table>\n",
       "</div>"
      ],
      "text/plain": [
       "         Year           GDP\n",
       "22282    1960  15482.707760\n",
       "48759    1961  15578.409657\n",
       "77142    1962  16276.426685\n",
       "105760   1963  16749.789436\n",
       "134798   1964  17476.822248\n",
       "166730   1965  18364.312341\n",
       "198096   1966  19333.418013\n",
       "230814   1967  19602.143105\n",
       "263369   1968  20338.952256\n",
       "296354   1969  20765.535280\n",
       "358010   1970  21183.217795\n",
       "425989   1971  21606.394645\n",
       "495783   1972  22501.419194\n",
       "565205   1973  23545.391149\n",
       "635285   1974  23210.587448\n",
       "707764   1975  22937.426641\n",
       "781179   1976  23944.249618\n",
       "856837   1977  24797.083143\n",
       "932497   1978  25900.326831\n",
       "1008328  1979  26429.555395\n",
       "1089607  1980  26113.124668\n",
       "1173536  1981  26528.980649\n",
       "1258738  1982  25775.146754\n",
       "1343992  1983  26723.693102\n",
       "1429895  1984  28416.486173\n",
       "1517335  1985  29359.665800\n",
       "1605202  1986  30111.098270\n",
       "1694598  1987  30876.250494\n",
       "1784067  1988  31883.459584\n",
       "1876583  1989  32746.215965\n",
       "1992875  1990  32999.840713\n",
       "2108826  1991  32537.686667\n",
       "2230117  1992  33230.451267\n",
       "2353864  1993  33695.631674\n",
       "2479530  1994  34628.874177\n",
       "2613859  1995  35149.368770\n",
       "2748826  1996  36061.602183\n",
       "2885119  1997  37228.767196\n",
       "3022452  1998  38434.753082\n",
       "3164380  1999  39776.100418\n",
       "3319022  2000  40945.633827\n",
       "3469669  2001  40938.063070\n",
       "3624311  2002  41284.450646\n",
       "3778080  2003  42079.984207\n",
       "3935823  2004  43270.701948\n",
       "4115443  2005  44307.920585\n",
       "4292637  2006  45052.921254\n",
       "4472959  2007  45420.187361\n",
       "4652803  2008  44861.390895\n",
       "4831465  2009  43235.558409\n",
       "5018182  2010  43961.168477\n",
       "5194861  2011  44324.944522\n",
       "5370008  2012  45008.614113\n",
       "5527438  2013  45660.733802\n",
       "5637323  2014  46405.247065"
      ]
     },
     "execution_count": 26,
     "metadata": {},
     "output_type": "execute_result"
    },
    {
     "data": {
      "text/html": [
       "<div>\n",
       "<style scoped>\n",
       "    .dataframe tbody tr th:only-of-type {\n",
       "        vertical-align: middle;\n",
       "    }\n",
       "\n",
       "    .dataframe tbody tr th {\n",
       "        vertical-align: top;\n",
       "    }\n",
       "\n",
       "    .dataframe thead th {\n",
       "        text-align: right;\n",
       "    }\n",
       "</style>\n",
       "<table border=\"1\" class=\"dataframe\">\n",
       "  <thead>\n",
       "    <tr style=\"text-align: right;\">\n",
       "      <th></th>\n",
       "      <th>CountryName</th>\n",
       "      <th>CountryCode</th>\n",
       "      <th>IndicatorName</th>\n",
       "      <th>IndicatorCode</th>\n",
       "      <th>Year</th>\n",
       "      <th>Value</th>\n",
       "      <th>GDP</th>\n",
       "    </tr>\n",
       "  </thead>\n",
       "  <tbody>\n",
       "    <tr>\n",
       "      <th>0</th>\n",
       "      <td>United States</td>\n",
       "      <td>USA</td>\n",
       "      <td>CO2 emissions (metric tons per capita)</td>\n",
       "      <td>EN.ATM.CO2E.PC</td>\n",
       "      <td>1960</td>\n",
       "      <td>15.999779</td>\n",
       "      <td>15482.707760</td>\n",
       "    </tr>\n",
       "    <tr>\n",
       "      <th>1</th>\n",
       "      <td>United States</td>\n",
       "      <td>USA</td>\n",
       "      <td>CO2 emissions (metric tons per capita)</td>\n",
       "      <td>EN.ATM.CO2E.PC</td>\n",
       "      <td>1961</td>\n",
       "      <td>15.681256</td>\n",
       "      <td>15578.409657</td>\n",
       "    </tr>\n",
       "    <tr>\n",
       "      <th>2</th>\n",
       "      <td>United States</td>\n",
       "      <td>USA</td>\n",
       "      <td>CO2 emissions (metric tons per capita)</td>\n",
       "      <td>EN.ATM.CO2E.PC</td>\n",
       "      <td>1962</td>\n",
       "      <td>16.013937</td>\n",
       "      <td>16276.426685</td>\n",
       "    </tr>\n",
       "    <tr>\n",
       "      <th>3</th>\n",
       "      <td>United States</td>\n",
       "      <td>USA</td>\n",
       "      <td>CO2 emissions (metric tons per capita)</td>\n",
       "      <td>EN.ATM.CO2E.PC</td>\n",
       "      <td>1963</td>\n",
       "      <td>16.482762</td>\n",
       "      <td>16749.789436</td>\n",
       "    </tr>\n",
       "    <tr>\n",
       "      <th>4</th>\n",
       "      <td>United States</td>\n",
       "      <td>USA</td>\n",
       "      <td>CO2 emissions (metric tons per capita)</td>\n",
       "      <td>EN.ATM.CO2E.PC</td>\n",
       "      <td>1964</td>\n",
       "      <td>16.968119</td>\n",
       "      <td>17476.822248</td>\n",
       "    </tr>\n",
       "  </tbody>\n",
       "</table>\n",
       "</div>"
      ],
      "text/plain": [
       "     CountryName CountryCode                           IndicatorName  \\\n",
       "0  United States         USA  CO2 emissions (metric tons per capita)   \n",
       "1  United States         USA  CO2 emissions (metric tons per capita)   \n",
       "2  United States         USA  CO2 emissions (metric tons per capita)   \n",
       "3  United States         USA  CO2 emissions (metric tons per capita)   \n",
       "4  United States         USA  CO2 emissions (metric tons per capita)   \n",
       "\n",
       "    IndicatorCode  Year      Value           GDP  \n",
       "0  EN.ATM.CO2E.PC  1960  15.999779  15482.707760  \n",
       "1  EN.ATM.CO2E.PC  1961  15.681256  15578.409657  \n",
       "2  EN.ATM.CO2E.PC  1962  16.013937  16276.426685  \n",
       "3  EN.ATM.CO2E.PC  1963  16.482762  16749.789436  \n",
       "4  EN.ATM.CO2E.PC  1964  16.968119  17476.822248  "
      ]
     },
     "execution_count": 26,
     "metadata": {},
     "output_type": "execute_result"
    },
    {
     "data": {
      "text/plain": [
       "(52, 7)"
      ]
     },
     "execution_count": 26,
     "metadata": {},
     "output_type": "execute_result"
    }
   ],
   "source": [
    "# YOUR CODES\n",
    "gdp=world['IndicatorName']=='GDP per capita (constant 2005 US$)'\n",
    "usa=world['CountryName']=='United States'\n",
    "world_gdp=world[gdp & usa]\n",
    "world_gdp.shape\n",
    "\n",
    "co2=world['IndicatorName']=='CO2 emissions (metric tons per capita)'\n",
    "usa=world['CountryName']=='United States'\n",
    "world_co2=world[co2 & usa]\n",
    "world_co2.shape\n",
    "\n",
    "new_world_gdp=world_gdp[['Year','Value']]\n",
    "new_world_gdp=new_world_gdp.rename(columns={\"Value\":\"GDP\"})\n",
    "new_world_gdp\n",
    "\n",
    "joined=pd.merge(world_co2,new_world_gdp,left_on='Year',right_on='Year')\n",
    "joined.head()\n",
    "joined.shape\n",
    "\n",
    "gdp_plot2=joined['GDP'].values\n",
    "co2_plot2=joined['Value'].values"
   ]
  },
  {
   "cell_type": "code",
   "execution_count": 27,
   "metadata": {},
   "outputs": [
    {
     "data": {
      "text/plain": [
       "<matplotlib.collections.PathCollection at 0x1eda3793610>"
      ]
     },
     "execution_count": 27,
     "metadata": {},
     "output_type": "execute_result"
    },
    {
     "data": {
      "text/plain": [
       "Text(0.5, 1.0, 'Relationship between GDP and CO2 emissions in USA')"
      ]
     },
     "execution_count": 27,
     "metadata": {},
     "output_type": "execute_result"
    },
    {
     "data": {
      "text/plain": [
       "Text(0, 0.5, 'GDP')"
      ]
     },
     "execution_count": 27,
     "metadata": {},
     "output_type": "execute_result"
    },
    {
     "data": {
      "text/plain": [
       "Text(0.5, 0, 'CO2 emmissions')"
      ]
     },
     "execution_count": 27,
     "metadata": {},
     "output_type": "execute_result"
    },
    {
     "data": {
      "image/png": "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\n",
      "text/plain": [
       "<Figure size 432x288 with 1 Axes>"
      ]
     },
     "metadata": {
      "needs_background": "light"
     },
     "output_type": "display_data"
    },
    {
     "data": {
      "text/plain": [
       "''"
      ]
     },
     "execution_count": 27,
     "metadata": {},
     "output_type": "execute_result"
    }
   ],
   "source": [
    "fig,ax= plt.subplots()\n",
    "ax.scatter(co2_plot2, gdp_plot2, marker='o')\n",
    "plt.title(\"Relationship between GDP and CO2 emissions in USA\")\n",
    "plt.ylabel(\"GDP\")\n",
    "plt.xlabel(\"CO2 emmissions\")\n",
    "plt.show()\n",
    ";"
   ]
  },
  {
   "cell_type": "markdown",
   "metadata": {},
   "source": [
    "## Part III: We are missing data (22 points)"
   ]
  },
  {
   "cell_type": "markdown",
   "metadata": {},
   "source": [
    "The above analyses have suggested that not all countries have all indicators for all years. Thus, let's pick indicators and countries which have data over the same time range"
   ]
  },
  {
   "cell_type": "code",
   "execution_count": 6,
   "metadata": {},
   "outputs": [],
   "source": [
    "# range of the three variables\n",
    "\n",
    "countries_list = world['CountryName'].unique().tolist()\n",
    "indicators_list = world['IndicatorName'].unique().tolist()\n",
    "yearfilter = range(2000,2012)\n"
   ]
  },
  {
   "cell_type": "markdown",
   "metadata": {},
   "source": [
    "**Q3.1** write a program to find **TWO** countries from **countries_list** and **ONE** indicator from **indicators_list** so that the selected two countries have records of the indicator from 2000 to 2011 (the time range is defined in **yearfilter**). (16 points)\n",
    "\n",
    "For example, both Bermuda and Costa Rica have records of the indicator \"Merchandise exports to developing economies outside region (% of total merchandise exports)\" from 2000 to 2011.\n",
    "\n",
    "Hint: https://pandas.pydata.org/pandas-docs/stable/reference/api/pandas.DataFrame.isin.html\n",
    "\n",
    "Expected output:\n",
    "- Two dataframe, indicating the two countries separately\n",
    "- The two dataframe only include data with the specific indicator\n",
    "- Both dataframe cover the same period of time from 2000 to 2011"
   ]
  },
  {
   "cell_type": "code",
   "execution_count": 48,
   "metadata": {},
   "outputs": [
    {
     "data": {
      "text/plain": [
       "'\\nHints:\\n\\nStep 1: pick one indicator from the indicator_list (you can use loops or randomly draw from indicators_list)\\nStep 2: given the selected indicator, pick two countries that have records over the 12 years (2000-2011). \\n\\nYou can use loops (for or while) to repeat the above two steps until you find the satisfying countries and indicators. \\n'"
      ]
     },
     "execution_count": 48,
     "metadata": {},
     "output_type": "execute_result"
    }
   ],
   "source": [
    "#random.seed(25) # generate the same random number every time\n",
    "\n",
    "# YOUR CODES\n",
    "\n",
    "'''\n",
    "Hints:\n",
    "\n",
    "Step 1: pick one indicator from the indicator_list (you can use loops or randomly draw from indicators_list)\n",
    "Step 2: given the selected indicator, pick two countries that have records over the 12 years (2000-2011). \n",
    "\n",
    "You can use loops (for or while) to repeat the above two steps until you find the satisfying countries and indicators. \n",
    "'''"
   ]
  },
  {
   "cell_type": "code",
   "execution_count": 30,
   "metadata": {},
   "outputs": [
    {
     "data": {
      "text/html": [
       "<div>\n",
       "<style scoped>\n",
       "    .dataframe tbody tr th:only-of-type {\n",
       "        vertical-align: middle;\n",
       "    }\n",
       "\n",
       "    .dataframe tbody tr th {\n",
       "        vertical-align: top;\n",
       "    }\n",
       "\n",
       "    .dataframe thead th {\n",
       "        text-align: right;\n",
       "    }\n",
       "</style>\n",
       "<table border=\"1\" class=\"dataframe\">\n",
       "  <thead>\n",
       "    <tr style=\"text-align: right;\">\n",
       "      <th></th>\n",
       "      <th>CountryName</th>\n",
       "      <th>CountryCode</th>\n",
       "      <th>IndicatorName</th>\n",
       "      <th>IndicatorCode</th>\n",
       "      <th>Year</th>\n",
       "      <th>Value</th>\n",
       "    </tr>\n",
       "  </thead>\n",
       "  <tbody>\n",
       "    <tr>\n",
       "      <th>3301953</th>\n",
       "      <td>Sri Lanka</td>\n",
       "      <td>LKA</td>\n",
       "      <td>Death rate, crude (per 1,000 people)</td>\n",
       "      <td>SP.DYN.CDRT.IN</td>\n",
       "      <td>2000</td>\n",
       "      <td>6.969</td>\n",
       "    </tr>\n",
       "    <tr>\n",
       "      <th>3452867</th>\n",
       "      <td>Sri Lanka</td>\n",
       "      <td>LKA</td>\n",
       "      <td>Death rate, crude (per 1,000 people)</td>\n",
       "      <td>SP.DYN.CDRT.IN</td>\n",
       "      <td>2001</td>\n",
       "      <td>6.706</td>\n",
       "    </tr>\n",
       "    <tr>\n",
       "      <th>3607055</th>\n",
       "      <td>Sri Lanka</td>\n",
       "      <td>LKA</td>\n",
       "      <td>Death rate, crude (per 1,000 people)</td>\n",
       "      <td>SP.DYN.CDRT.IN</td>\n",
       "      <td>2002</td>\n",
       "      <td>6.490</td>\n",
       "    </tr>\n",
       "    <tr>\n",
       "      <th>3760946</th>\n",
       "      <td>Sri Lanka</td>\n",
       "      <td>LKA</td>\n",
       "      <td>Death rate, crude (per 1,000 people)</td>\n",
       "      <td>SP.DYN.CDRT.IN</td>\n",
       "      <td>2003</td>\n",
       "      <td>6.362</td>\n",
       "    </tr>\n",
       "    <tr>\n",
       "      <th>3918229</th>\n",
       "      <td>Sri Lanka</td>\n",
       "      <td>LKA</td>\n",
       "      <td>Death rate, crude (per 1,000 people)</td>\n",
       "      <td>SP.DYN.CDRT.IN</td>\n",
       "      <td>2004</td>\n",
       "      <td>6.336</td>\n",
       "    </tr>\n",
       "    <tr>\n",
       "      <th>4095356</th>\n",
       "      <td>Sri Lanka</td>\n",
       "      <td>LKA</td>\n",
       "      <td>Death rate, crude (per 1,000 people)</td>\n",
       "      <td>SP.DYN.CDRT.IN</td>\n",
       "      <td>2005</td>\n",
       "      <td>6.404</td>\n",
       "    </tr>\n",
       "    <tr>\n",
       "      <th>4272787</th>\n",
       "      <td>Sri Lanka</td>\n",
       "      <td>LKA</td>\n",
       "      <td>Death rate, crude (per 1,000 people)</td>\n",
       "      <td>SP.DYN.CDRT.IN</td>\n",
       "      <td>2006</td>\n",
       "      <td>6.537</td>\n",
       "    </tr>\n",
       "    <tr>\n",
       "      <th>4453169</th>\n",
       "      <td>Sri Lanka</td>\n",
       "      <td>LKA</td>\n",
       "      <td>Death rate, crude (per 1,000 people)</td>\n",
       "      <td>SP.DYN.CDRT.IN</td>\n",
       "      <td>2007</td>\n",
       "      <td>6.690</td>\n",
       "    </tr>\n",
       "    <tr>\n",
       "      <th>4633286</th>\n",
       "      <td>Sri Lanka</td>\n",
       "      <td>LKA</td>\n",
       "      <td>Death rate, crude (per 1,000 people)</td>\n",
       "      <td>SP.DYN.CDRT.IN</td>\n",
       "      <td>2008</td>\n",
       "      <td>6.822</td>\n",
       "    </tr>\n",
       "    <tr>\n",
       "      <th>4811865</th>\n",
       "      <td>Sri Lanka</td>\n",
       "      <td>LKA</td>\n",
       "      <td>Death rate, crude (per 1,000 people)</td>\n",
       "      <td>SP.DYN.CDRT.IN</td>\n",
       "      <td>2009</td>\n",
       "      <td>6.923</td>\n",
       "    </tr>\n",
       "    <tr>\n",
       "      <th>4997675</th>\n",
       "      <td>Sri Lanka</td>\n",
       "      <td>LKA</td>\n",
       "      <td>Death rate, crude (per 1,000 people)</td>\n",
       "      <td>SP.DYN.CDRT.IN</td>\n",
       "      <td>2010</td>\n",
       "      <td>6.986</td>\n",
       "    </tr>\n",
       "    <tr>\n",
       "      <th>5175852</th>\n",
       "      <td>Sri Lanka</td>\n",
       "      <td>LKA</td>\n",
       "      <td>Death rate, crude (per 1,000 people)</td>\n",
       "      <td>SP.DYN.CDRT.IN</td>\n",
       "      <td>2011</td>\n",
       "      <td>7.017</td>\n",
       "    </tr>\n",
       "  </tbody>\n",
       "</table>\n",
       "</div>"
      ],
      "text/plain": [
       "        CountryName CountryCode                         IndicatorName  \\\n",
       "3301953   Sri Lanka         LKA  Death rate, crude (per 1,000 people)   \n",
       "3452867   Sri Lanka         LKA  Death rate, crude (per 1,000 people)   \n",
       "3607055   Sri Lanka         LKA  Death rate, crude (per 1,000 people)   \n",
       "3760946   Sri Lanka         LKA  Death rate, crude (per 1,000 people)   \n",
       "3918229   Sri Lanka         LKA  Death rate, crude (per 1,000 people)   \n",
       "4095356   Sri Lanka         LKA  Death rate, crude (per 1,000 people)   \n",
       "4272787   Sri Lanka         LKA  Death rate, crude (per 1,000 people)   \n",
       "4453169   Sri Lanka         LKA  Death rate, crude (per 1,000 people)   \n",
       "4633286   Sri Lanka         LKA  Death rate, crude (per 1,000 people)   \n",
       "4811865   Sri Lanka         LKA  Death rate, crude (per 1,000 people)   \n",
       "4997675   Sri Lanka         LKA  Death rate, crude (per 1,000 people)   \n",
       "5175852   Sri Lanka         LKA  Death rate, crude (per 1,000 people)   \n",
       "\n",
       "          IndicatorCode  Year  Value  \n",
       "3301953  SP.DYN.CDRT.IN  2000  6.969  \n",
       "3452867  SP.DYN.CDRT.IN  2001  6.706  \n",
       "3607055  SP.DYN.CDRT.IN  2002  6.490  \n",
       "3760946  SP.DYN.CDRT.IN  2003  6.362  \n",
       "3918229  SP.DYN.CDRT.IN  2004  6.336  \n",
       "4095356  SP.DYN.CDRT.IN  2005  6.404  \n",
       "4272787  SP.DYN.CDRT.IN  2006  6.537  \n",
       "4453169  SP.DYN.CDRT.IN  2007  6.690  \n",
       "4633286  SP.DYN.CDRT.IN  2008  6.822  \n",
       "4811865  SP.DYN.CDRT.IN  2009  6.923  \n",
       "4997675  SP.DYN.CDRT.IN  2010  6.986  \n",
       "5175852  SP.DYN.CDRT.IN  2011  7.017  "
      ]
     },
     "metadata": {},
     "output_type": "display_data"
    },
    {
     "data": {
      "text/html": [
       "<div>\n",
       "<style scoped>\n",
       "    .dataframe tbody tr th:only-of-type {\n",
       "        vertical-align: middle;\n",
       "    }\n",
       "\n",
       "    .dataframe tbody tr th {\n",
       "        vertical-align: top;\n",
       "    }\n",
       "\n",
       "    .dataframe thead th {\n",
       "        text-align: right;\n",
       "    }\n",
       "</style>\n",
       "<table border=\"1\" class=\"dataframe\">\n",
       "  <thead>\n",
       "    <tr style=\"text-align: right;\">\n",
       "      <th></th>\n",
       "      <th>CountryName</th>\n",
       "      <th>CountryCode</th>\n",
       "      <th>IndicatorName</th>\n",
       "      <th>IndicatorCode</th>\n",
       "      <th>Year</th>\n",
       "      <th>Value</th>\n",
       "    </tr>\n",
       "  </thead>\n",
       "  <tbody>\n",
       "    <tr>\n",
       "      <th>3182871</th>\n",
       "      <td>Middle East &amp; North Africa (all income levels)</td>\n",
       "      <td>MEA</td>\n",
       "      <td>Death rate, crude (per 1,000 people)</td>\n",
       "      <td>SP.DYN.CDRT.IN</td>\n",
       "      <td>2000</td>\n",
       "      <td>5.570108</td>\n",
       "    </tr>\n",
       "    <tr>\n",
       "      <th>3336875</th>\n",
       "      <td>Middle East &amp; North Africa (all income levels)</td>\n",
       "      <td>MEA</td>\n",
       "      <td>Death rate, crude (per 1,000 people)</td>\n",
       "      <td>SP.DYN.CDRT.IN</td>\n",
       "      <td>2001</td>\n",
       "      <td>5.518399</td>\n",
       "    </tr>\n",
       "    <tr>\n",
       "      <th>3487564</th>\n",
       "      <td>Middle East &amp; North Africa (all income levels)</td>\n",
       "      <td>MEA</td>\n",
       "      <td>Death rate, crude (per 1,000 people)</td>\n",
       "      <td>SP.DYN.CDRT.IN</td>\n",
       "      <td>2002</td>\n",
       "      <td>5.489209</td>\n",
       "    </tr>\n",
       "    <tr>\n",
       "      <th>3642574</th>\n",
       "      <td>Middle East &amp; North Africa (all income levels)</td>\n",
       "      <td>MEA</td>\n",
       "      <td>Death rate, crude (per 1,000 people)</td>\n",
       "      <td>SP.DYN.CDRT.IN</td>\n",
       "      <td>2003</td>\n",
       "      <td>5.471718</td>\n",
       "    </tr>\n",
       "    <tr>\n",
       "      <th>3796254</th>\n",
       "      <td>Middle East &amp; North Africa (all income levels)</td>\n",
       "      <td>MEA</td>\n",
       "      <td>Death rate, crude (per 1,000 people)</td>\n",
       "      <td>SP.DYN.CDRT.IN</td>\n",
       "      <td>2004</td>\n",
       "      <td>5.441856</td>\n",
       "    </tr>\n",
       "    <tr>\n",
       "      <th>3956169</th>\n",
       "      <td>Middle East &amp; North Africa (all income levels)</td>\n",
       "      <td>MEA</td>\n",
       "      <td>Death rate, crude (per 1,000 people)</td>\n",
       "      <td>SP.DYN.CDRT.IN</td>\n",
       "      <td>2005</td>\n",
       "      <td>5.416182</td>\n",
       "    </tr>\n",
       "    <tr>\n",
       "      <th>4136260</th>\n",
       "      <td>Middle East &amp; North Africa (all income levels)</td>\n",
       "      <td>MEA</td>\n",
       "      <td>Death rate, crude (per 1,000 people)</td>\n",
       "      <td>SP.DYN.CDRT.IN</td>\n",
       "      <td>2006</td>\n",
       "      <td>5.377583</td>\n",
       "    </tr>\n",
       "    <tr>\n",
       "      <th>4313664</th>\n",
       "      <td>Middle East &amp; North Africa (all income levels)</td>\n",
       "      <td>MEA</td>\n",
       "      <td>Death rate, crude (per 1,000 people)</td>\n",
       "      <td>SP.DYN.CDRT.IN</td>\n",
       "      <td>2007</td>\n",
       "      <td>5.340849</td>\n",
       "    </tr>\n",
       "    <tr>\n",
       "      <th>4493976</th>\n",
       "      <td>Middle East &amp; North Africa (all income levels)</td>\n",
       "      <td>MEA</td>\n",
       "      <td>Death rate, crude (per 1,000 people)</td>\n",
       "      <td>SP.DYN.CDRT.IN</td>\n",
       "      <td>2008</td>\n",
       "      <td>5.305977</td>\n",
       "    </tr>\n",
       "    <tr>\n",
       "      <th>4673666</th>\n",
       "      <td>Middle East &amp; North Africa (all income levels)</td>\n",
       "      <td>MEA</td>\n",
       "      <td>Death rate, crude (per 1,000 people)</td>\n",
       "      <td>SP.DYN.CDRT.IN</td>\n",
       "      <td>2009</td>\n",
       "      <td>5.256922</td>\n",
       "    </tr>\n",
       "    <tr>\n",
       "      <th>4853090</th>\n",
       "      <td>Middle East &amp; North Africa (all income levels)</td>\n",
       "      <td>MEA</td>\n",
       "      <td>Death rate, crude (per 1,000 people)</td>\n",
       "      <td>SP.DYN.CDRT.IN</td>\n",
       "      <td>2010</td>\n",
       "      <td>5.212177</td>\n",
       "    </tr>\n",
       "    <tr>\n",
       "      <th>5039238</th>\n",
       "      <td>Middle East &amp; North Africa (all income levels)</td>\n",
       "      <td>MEA</td>\n",
       "      <td>Death rate, crude (per 1,000 people)</td>\n",
       "      <td>SP.DYN.CDRT.IN</td>\n",
       "      <td>2011</td>\n",
       "      <td>5.174095</td>\n",
       "    </tr>\n",
       "  </tbody>\n",
       "</table>\n",
       "</div>"
      ],
      "text/plain": [
       "                                            CountryName CountryCode  \\\n",
       "3182871  Middle East & North Africa (all income levels)         MEA   \n",
       "3336875  Middle East & North Africa (all income levels)         MEA   \n",
       "3487564  Middle East & North Africa (all income levels)         MEA   \n",
       "3642574  Middle East & North Africa (all income levels)         MEA   \n",
       "3796254  Middle East & North Africa (all income levels)         MEA   \n",
       "3956169  Middle East & North Africa (all income levels)         MEA   \n",
       "4136260  Middle East & North Africa (all income levels)         MEA   \n",
       "4313664  Middle East & North Africa (all income levels)         MEA   \n",
       "4493976  Middle East & North Africa (all income levels)         MEA   \n",
       "4673666  Middle East & North Africa (all income levels)         MEA   \n",
       "4853090  Middle East & North Africa (all income levels)         MEA   \n",
       "5039238  Middle East & North Africa (all income levels)         MEA   \n",
       "\n",
       "                                IndicatorName   IndicatorCode  Year     Value  \n",
       "3182871  Death rate, crude (per 1,000 people)  SP.DYN.CDRT.IN  2000  5.570108  \n",
       "3336875  Death rate, crude (per 1,000 people)  SP.DYN.CDRT.IN  2001  5.518399  \n",
       "3487564  Death rate, crude (per 1,000 people)  SP.DYN.CDRT.IN  2002  5.489209  \n",
       "3642574  Death rate, crude (per 1,000 people)  SP.DYN.CDRT.IN  2003  5.471718  \n",
       "3796254  Death rate, crude (per 1,000 people)  SP.DYN.CDRT.IN  2004  5.441856  \n",
       "3956169  Death rate, crude (per 1,000 people)  SP.DYN.CDRT.IN  2005  5.416182  \n",
       "4136260  Death rate, crude (per 1,000 people)  SP.DYN.CDRT.IN  2006  5.377583  \n",
       "4313664  Death rate, crude (per 1,000 people)  SP.DYN.CDRT.IN  2007  5.340849  \n",
       "4493976  Death rate, crude (per 1,000 people)  SP.DYN.CDRT.IN  2008  5.305977  \n",
       "4673666  Death rate, crude (per 1,000 people)  SP.DYN.CDRT.IN  2009  5.256922  \n",
       "4853090  Death rate, crude (per 1,000 people)  SP.DYN.CDRT.IN  2010  5.212177  \n",
       "5039238  Death rate, crude (per 1,000 people)  SP.DYN.CDRT.IN  2011  5.174095  "
      ]
     },
     "metadata": {},
     "output_type": "display_data"
    }
   ],
   "source": [
    "# YOUR CODES\n",
    "import random\n",
    "world_indicator=world[(world['Year'].isin(yearfilter))&(world['IndicatorName'].isin(indicators_list))]\n",
    "\n",
    "while True:    \n",
    "    choice = random.choice(indicators_list)\n",
    "    new=world_indicator[world_indicator['IndicatorName'] == choice]\n",
    "    country_list = new['CountryName'].unique() \n",
    "    new_list=[]\n",
    "    for x in country_list:\n",
    "        something = new[new['CountryName']==x][\"Year\"].tolist()\n",
    "        result =  all(elem in something  for elem in yearfilter)\n",
    "        if result== True:\n",
    "            new_list.append(x)\n",
    "    if len(new_list)>=2:\n",
    "        break\n",
    "        \n",
    "country = random.sample(new_list,k =2)        \n",
    "country_1 = new[new[\"CountryName\"]==country[0]]\n",
    "country_2 = new[new[\"CountryName\"]==country[1]]\n",
    "\n",
    "display(country_1)\n",
    "display(country_2)\n"
   ]
  },
  {
   "cell_type": "markdown",
   "metadata": {},
   "source": [
    "**Q3.2** Plot the correlation of the two countries with the selected indicator (scatter plots) (6 points)"
   ]
  },
  {
   "cell_type": "code",
   "execution_count": 32,
   "metadata": {},
   "outputs": [
    {
     "data": {
      "text/plain": [
       "<matplotlib.collections.PathCollection at 0x1f98a609b20>"
      ]
     },
     "execution_count": 32,
     "metadata": {},
     "output_type": "execute_result"
    },
    {
     "data": {
      "text/plain": [
       "Text(0.5, 1.0, 'correlation of the two countries with the selected indicator')"
      ]
     },
     "execution_count": 32,
     "metadata": {},
     "output_type": "execute_result"
    },
    {
     "data": {
      "text/plain": [
       "Text(0.5, 0, 'Sri Lanka')"
      ]
     },
     "execution_count": 32,
     "metadata": {},
     "output_type": "execute_result"
    },
    {
     "data": {
      "text/plain": [
       "Text(0, 0.5, 'Middle East & North Africa (all income levels)')"
      ]
     },
     "execution_count": 32,
     "metadata": {},
     "output_type": "execute_result"
    },
    {
     "data": {
      "image/png": "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\n",
      "text/plain": [
       "<Figure size 432x288 with 1 Axes>"
      ]
     },
     "metadata": {
      "needs_background": "light"
     },
     "output_type": "display_data"
    }
   ],
   "source": [
    "fig,ax= plt.subplots()\n",
    "ax.scatter(country_1['Value'], country_2['Value'], marker='o')\n",
    "plt.title(\"correlation of the two countries with the selected indicator\")\n",
    "plt.xlabel(country[0])\n",
    "plt.ylabel(country[1])"
   ]
  }
 ],
 "metadata": {
  "kernelspec": {
   "display_name": "Python 3",
   "language": "python",
   "name": "python3"
  },
  "language_info": {
   "codemirror_mode": {
    "name": "ipython",
    "version": 3
   },
   "file_extension": ".py",
   "mimetype": "text/x-python",
   "name": "python",
   "nbconvert_exporter": "python",
   "pygments_lexer": "ipython3",
   "version": "3.8.3"
  }
 },
 "nbformat": 4,
 "nbformat_minor": 2
}
